{
 "cells": [
  {
   "cell_type": "code",
   "execution_count": 1,
   "id": "b5995cd6",
   "metadata": {},
   "outputs": [
    {
     "name": "stdout",
     "output_type": "stream",
     "text": [
      "version: 0.1.10.1\n",
      "path: ['C:\\\\Python\\\\Python311\\\\Lib\\\\site-packages\\\\westat']\n"
     ]
    }
   ],
   "source": [
    "# View the westat version number and installation path\n",
    "import westat\n",
    "print('version:',westat.__version__)\n",
    "print('path:',westat.__path__)"
   ]
  },
  {
   "cell_type": "markdown",
   "id": "938cacb9",
   "metadata": {},
   "source": [
    "## 一、Data preparation"
   ]
  },
  {
   "cell_type": "code",
   "execution_count": 2,
   "id": "4071adcd",
   "metadata": {},
   "outputs": [
    {
     "data": {
      "text/html": [
       "<div>\n",
       "<style scoped>\n",
       "    .dataframe tbody tr th:only-of-type {\n",
       "        vertical-align: middle;\n",
       "    }\n",
       "\n",
       "    .dataframe tbody tr th {\n",
       "        vertical-align: top;\n",
       "    }\n",
       "\n",
       "    .dataframe thead th {\n",
       "        text-align: right;\n",
       "    }\n",
       "</style>\n",
       "<table border=\"1\" class=\"dataframe\">\n",
       "  <thead>\n",
       "    <tr style=\"text-align: right;\">\n",
       "      <th></th>\n",
       "      <th>ID</th>\n",
       "      <th>LIMIT_BAL</th>\n",
       "      <th>SEX</th>\n",
       "      <th>EDUCATION</th>\n",
       "      <th>MARRIAGE</th>\n",
       "      <th>AGE</th>\n",
       "      <th>PAY_0</th>\n",
       "      <th>PAY_2</th>\n",
       "      <th>PAY_3</th>\n",
       "      <th>PAY_4</th>\n",
       "      <th>...</th>\n",
       "      <th>BILL_AMT4</th>\n",
       "      <th>BILL_AMT5</th>\n",
       "      <th>BILL_AMT6</th>\n",
       "      <th>PAY_AMT1</th>\n",
       "      <th>PAY_AMT2</th>\n",
       "      <th>PAY_AMT3</th>\n",
       "      <th>PAY_AMT4</th>\n",
       "      <th>PAY_AMT5</th>\n",
       "      <th>PAY_AMT6</th>\n",
       "      <th>target</th>\n",
       "    </tr>\n",
       "  </thead>\n",
       "  <tbody>\n",
       "    <tr>\n",
       "      <th>0</th>\n",
       "      <td>1</td>\n",
       "      <td>20000.0</td>\n",
       "      <td>2</td>\n",
       "      <td>2</td>\n",
       "      <td>1</td>\n",
       "      <td>24</td>\n",
       "      <td>2</td>\n",
       "      <td>2</td>\n",
       "      <td>-1</td>\n",
       "      <td>-1</td>\n",
       "      <td>...</td>\n",
       "      <td>0.0</td>\n",
       "      <td>0.0</td>\n",
       "      <td>0.0</td>\n",
       "      <td>0.0</td>\n",
       "      <td>689.0</td>\n",
       "      <td>0.0</td>\n",
       "      <td>0.0</td>\n",
       "      <td>0.0</td>\n",
       "      <td>0.0</td>\n",
       "      <td>1</td>\n",
       "    </tr>\n",
       "    <tr>\n",
       "      <th>1</th>\n",
       "      <td>2</td>\n",
       "      <td>120000.0</td>\n",
       "      <td>2</td>\n",
       "      <td>2</td>\n",
       "      <td>2</td>\n",
       "      <td>26</td>\n",
       "      <td>-1</td>\n",
       "      <td>2</td>\n",
       "      <td>0</td>\n",
       "      <td>0</td>\n",
       "      <td>...</td>\n",
       "      <td>3272.0</td>\n",
       "      <td>3455.0</td>\n",
       "      <td>3261.0</td>\n",
       "      <td>0.0</td>\n",
       "      <td>1000.0</td>\n",
       "      <td>1000.0</td>\n",
       "      <td>1000.0</td>\n",
       "      <td>0.0</td>\n",
       "      <td>2000.0</td>\n",
       "      <td>1</td>\n",
       "    </tr>\n",
       "    <tr>\n",
       "      <th>2</th>\n",
       "      <td>3</td>\n",
       "      <td>90000.0</td>\n",
       "      <td>2</td>\n",
       "      <td>2</td>\n",
       "      <td>2</td>\n",
       "      <td>34</td>\n",
       "      <td>0</td>\n",
       "      <td>0</td>\n",
       "      <td>0</td>\n",
       "      <td>0</td>\n",
       "      <td>...</td>\n",
       "      <td>14331.0</td>\n",
       "      <td>14948.0</td>\n",
       "      <td>15549.0</td>\n",
       "      <td>1518.0</td>\n",
       "      <td>1500.0</td>\n",
       "      <td>1000.0</td>\n",
       "      <td>1000.0</td>\n",
       "      <td>1000.0</td>\n",
       "      <td>5000.0</td>\n",
       "      <td>0</td>\n",
       "    </tr>\n",
       "    <tr>\n",
       "      <th>3</th>\n",
       "      <td>4</td>\n",
       "      <td>50000.0</td>\n",
       "      <td>2</td>\n",
       "      <td>2</td>\n",
       "      <td>1</td>\n",
       "      <td>37</td>\n",
       "      <td>0</td>\n",
       "      <td>0</td>\n",
       "      <td>0</td>\n",
       "      <td>0</td>\n",
       "      <td>...</td>\n",
       "      <td>28314.0</td>\n",
       "      <td>28959.0</td>\n",
       "      <td>29547.0</td>\n",
       "      <td>2000.0</td>\n",
       "      <td>2019.0</td>\n",
       "      <td>1200.0</td>\n",
       "      <td>1100.0</td>\n",
       "      <td>1069.0</td>\n",
       "      <td>1000.0</td>\n",
       "      <td>0</td>\n",
       "    </tr>\n",
       "    <tr>\n",
       "      <th>4</th>\n",
       "      <td>5</td>\n",
       "      <td>50000.0</td>\n",
       "      <td>1</td>\n",
       "      <td>2</td>\n",
       "      <td>1</td>\n",
       "      <td>57</td>\n",
       "      <td>-1</td>\n",
       "      <td>0</td>\n",
       "      <td>-1</td>\n",
       "      <td>0</td>\n",
       "      <td>...</td>\n",
       "      <td>20940.0</td>\n",
       "      <td>19146.0</td>\n",
       "      <td>19131.0</td>\n",
       "      <td>2000.0</td>\n",
       "      <td>36681.0</td>\n",
       "      <td>10000.0</td>\n",
       "      <td>9000.0</td>\n",
       "      <td>689.0</td>\n",
       "      <td>679.0</td>\n",
       "      <td>0</td>\n",
       "    </tr>\n",
       "  </tbody>\n",
       "</table>\n",
       "<p>5 rows × 25 columns</p>\n",
       "</div>"
      ],
      "text/plain": [
       "   ID  LIMIT_BAL  SEX  EDUCATION  MARRIAGE  AGE  PAY_0  PAY_2  PAY_3  PAY_4  \\\n",
       "0   1    20000.0    2          2         1   24      2      2     -1     -1   \n",
       "1   2   120000.0    2          2         2   26     -1      2      0      0   \n",
       "2   3    90000.0    2          2         2   34      0      0      0      0   \n",
       "3   4    50000.0    2          2         1   37      0      0      0      0   \n",
       "4   5    50000.0    1          2         1   57     -1      0     -1      0   \n",
       "\n",
       "   ...  BILL_AMT4  BILL_AMT5  BILL_AMT6  PAY_AMT1  PAY_AMT2  PAY_AMT3  \\\n",
       "0  ...        0.0        0.0        0.0       0.0     689.0       0.0   \n",
       "1  ...     3272.0     3455.0     3261.0       0.0    1000.0    1000.0   \n",
       "2  ...    14331.0    14948.0    15549.0    1518.0    1500.0    1000.0   \n",
       "3  ...    28314.0    28959.0    29547.0    2000.0    2019.0    1200.0   \n",
       "4  ...    20940.0    19146.0    19131.0    2000.0   36681.0   10000.0   \n",
       "\n",
       "   PAY_AMT4  PAY_AMT5  PAY_AMT6  target  \n",
       "0       0.0       0.0       0.0       1  \n",
       "1    1000.0       0.0    2000.0       1  \n",
       "2    1000.0    1000.0    5000.0       0  \n",
       "3    1100.0    1069.0    1000.0       0  \n",
       "4    9000.0     689.0     679.0       0  \n",
       "\n",
       "[5 rows x 25 columns]"
      ]
     },
     "execution_count": 2,
     "metadata": {},
     "output_type": "execute_result"
    }
   ],
   "source": [
    "from westat import *\n",
    "\n",
    "data=credit_card()\n",
    "data.head()"
   ]
  },
  {
   "cell_type": "code",
   "execution_count": 3,
   "id": "55822107",
   "metadata": {},
   "outputs": [
    {
     "data": {
      "text/html": [
       "<div>\n",
       "<style scoped>\n",
       "    .dataframe tbody tr th:only-of-type {\n",
       "        vertical-align: middle;\n",
       "    }\n",
       "\n",
       "    .dataframe tbody tr th {\n",
       "        vertical-align: top;\n",
       "    }\n",
       "\n",
       "    .dataframe thead th {\n",
       "        text-align: right;\n",
       "    }\n",
       "</style>\n",
       "<table border=\"1\" class=\"dataframe\">\n",
       "  <thead>\n",
       "    <tr style=\"text-align: right;\">\n",
       "      <th></th>\n",
       "      <th>ID</th>\n",
       "      <th>LIMIT_BAL</th>\n",
       "      <th>SEX</th>\n",
       "      <th>EDUCATION</th>\n",
       "      <th>MARRIAGE</th>\n",
       "      <th>AGE</th>\n",
       "      <th>PAY_0</th>\n",
       "      <th>PAY_2</th>\n",
       "      <th>PAY_3</th>\n",
       "      <th>PAY_4</th>\n",
       "      <th>...</th>\n",
       "      <th>BILL_AMT4</th>\n",
       "      <th>BILL_AMT5</th>\n",
       "      <th>BILL_AMT6</th>\n",
       "      <th>PAY_AMT1</th>\n",
       "      <th>PAY_AMT2</th>\n",
       "      <th>PAY_AMT3</th>\n",
       "      <th>PAY_AMT4</th>\n",
       "      <th>PAY_AMT5</th>\n",
       "      <th>PAY_AMT6</th>\n",
       "      <th>y</th>\n",
       "    </tr>\n",
       "  </thead>\n",
       "  <tbody>\n",
       "    <tr>\n",
       "      <th>0</th>\n",
       "      <td>1</td>\n",
       "      <td>20000.0</td>\n",
       "      <td>2</td>\n",
       "      <td>2</td>\n",
       "      <td>1</td>\n",
       "      <td>24</td>\n",
       "      <td>2</td>\n",
       "      <td>2</td>\n",
       "      <td>-1</td>\n",
       "      <td>-1</td>\n",
       "      <td>...</td>\n",
       "      <td>0.0</td>\n",
       "      <td>0.0</td>\n",
       "      <td>0.0</td>\n",
       "      <td>0.0</td>\n",
       "      <td>689.0</td>\n",
       "      <td>0.0</td>\n",
       "      <td>0.0</td>\n",
       "      <td>0.0</td>\n",
       "      <td>0.0</td>\n",
       "      <td>1</td>\n",
       "    </tr>\n",
       "    <tr>\n",
       "      <th>1</th>\n",
       "      <td>2</td>\n",
       "      <td>120000.0</td>\n",
       "      <td>2</td>\n",
       "      <td>2</td>\n",
       "      <td>2</td>\n",
       "      <td>26</td>\n",
       "      <td>-1</td>\n",
       "      <td>2</td>\n",
       "      <td>0</td>\n",
       "      <td>0</td>\n",
       "      <td>...</td>\n",
       "      <td>3272.0</td>\n",
       "      <td>3455.0</td>\n",
       "      <td>3261.0</td>\n",
       "      <td>0.0</td>\n",
       "      <td>1000.0</td>\n",
       "      <td>1000.0</td>\n",
       "      <td>1000.0</td>\n",
       "      <td>0.0</td>\n",
       "      <td>2000.0</td>\n",
       "      <td>1</td>\n",
       "    </tr>\n",
       "    <tr>\n",
       "      <th>2</th>\n",
       "      <td>3</td>\n",
       "      <td>90000.0</td>\n",
       "      <td>2</td>\n",
       "      <td>2</td>\n",
       "      <td>2</td>\n",
       "      <td>34</td>\n",
       "      <td>0</td>\n",
       "      <td>0</td>\n",
       "      <td>0</td>\n",
       "      <td>0</td>\n",
       "      <td>...</td>\n",
       "      <td>14331.0</td>\n",
       "      <td>14948.0</td>\n",
       "      <td>15549.0</td>\n",
       "      <td>1518.0</td>\n",
       "      <td>1500.0</td>\n",
       "      <td>1000.0</td>\n",
       "      <td>1000.0</td>\n",
       "      <td>1000.0</td>\n",
       "      <td>5000.0</td>\n",
       "      <td>0</td>\n",
       "    </tr>\n",
       "    <tr>\n",
       "      <th>3</th>\n",
       "      <td>4</td>\n",
       "      <td>50000.0</td>\n",
       "      <td>2</td>\n",
       "      <td>2</td>\n",
       "      <td>1</td>\n",
       "      <td>37</td>\n",
       "      <td>0</td>\n",
       "      <td>0</td>\n",
       "      <td>0</td>\n",
       "      <td>0</td>\n",
       "      <td>...</td>\n",
       "      <td>28314.0</td>\n",
       "      <td>28959.0</td>\n",
       "      <td>29547.0</td>\n",
       "      <td>2000.0</td>\n",
       "      <td>2019.0</td>\n",
       "      <td>1200.0</td>\n",
       "      <td>1100.0</td>\n",
       "      <td>1069.0</td>\n",
       "      <td>1000.0</td>\n",
       "      <td>0</td>\n",
       "    </tr>\n",
       "    <tr>\n",
       "      <th>4</th>\n",
       "      <td>5</td>\n",
       "      <td>50000.0</td>\n",
       "      <td>1</td>\n",
       "      <td>2</td>\n",
       "      <td>1</td>\n",
       "      <td>57</td>\n",
       "      <td>-1</td>\n",
       "      <td>0</td>\n",
       "      <td>-1</td>\n",
       "      <td>0</td>\n",
       "      <td>...</td>\n",
       "      <td>20940.0</td>\n",
       "      <td>19146.0</td>\n",
       "      <td>19131.0</td>\n",
       "      <td>2000.0</td>\n",
       "      <td>36681.0</td>\n",
       "      <td>10000.0</td>\n",
       "      <td>9000.0</td>\n",
       "      <td>689.0</td>\n",
       "      <td>679.0</td>\n",
       "      <td>0</td>\n",
       "    </tr>\n",
       "  </tbody>\n",
       "</table>\n",
       "<p>5 rows × 25 columns</p>\n",
       "</div>"
      ],
      "text/plain": [
       "   ID  LIMIT_BAL  SEX  EDUCATION  MARRIAGE  AGE  PAY_0  PAY_2  PAY_3  PAY_4  \\\n",
       "0   1    20000.0    2          2         1   24      2      2     -1     -1   \n",
       "1   2   120000.0    2          2         2   26     -1      2      0      0   \n",
       "2   3    90000.0    2          2         2   34      0      0      0      0   \n",
       "3   4    50000.0    2          2         1   37      0      0      0      0   \n",
       "4   5    50000.0    1          2         1   57     -1      0     -1      0   \n",
       "\n",
       "   ...  BILL_AMT4  BILL_AMT5  BILL_AMT6  PAY_AMT1  PAY_AMT2  PAY_AMT3  \\\n",
       "0  ...        0.0        0.0        0.0       0.0     689.0       0.0   \n",
       "1  ...     3272.0     3455.0     3261.0       0.0    1000.0    1000.0   \n",
       "2  ...    14331.0    14948.0    15549.0    1518.0    1500.0    1000.0   \n",
       "3  ...    28314.0    28959.0    29547.0    2000.0    2019.0    1200.0   \n",
       "4  ...    20940.0    19146.0    19131.0    2000.0   36681.0   10000.0   \n",
       "\n",
       "   PAY_AMT4  PAY_AMT5  PAY_AMT6  y  \n",
       "0       0.0       0.0       0.0  1  \n",
       "1    1000.0       0.0    2000.0  1  \n",
       "2    1000.0    1000.0    5000.0  0  \n",
       "3    1100.0    1069.0    1000.0  0  \n",
       "4    9000.0     689.0     679.0  0  \n",
       "\n",
       "[5 rows x 25 columns]"
      ]
     },
     "execution_count": 3,
     "metadata": {},
     "output_type": "execute_result"
    }
   ],
   "source": [
    "# Rename the target variable to 'y'\n",
    "data.rename(columns={'target':'y'},inplace=True)\n",
    "data.head()"
   ]
  },
  {
   "cell_type": "markdown",
   "id": "22e29b9f",
   "metadata": {},
   "source": [
    "## 二、Data exploration"
   ]
  },
  {
   "cell_type": "code",
   "execution_count": 4,
   "id": "966cc4c9",
   "metadata": {},
   "outputs": [
    {
     "data": {
      "text/html": [
       "<div>\n",
       "<style scoped>\n",
       "    .dataframe tbody tr th:only-of-type {\n",
       "        vertical-align: middle;\n",
       "    }\n",
       "\n",
       "    .dataframe tbody tr th {\n",
       "        vertical-align: top;\n",
       "    }\n",
       "\n",
       "    .dataframe thead th {\n",
       "        text-align: right;\n",
       "    }\n",
       "</style>\n",
       "<table border=\"1\" class=\"dataframe\">\n",
       "  <thead>\n",
       "    <tr style=\"text-align: right;\">\n",
       "      <th></th>\n",
       "      <th>Variable</th>\n",
       "      <th>N</th>\n",
       "      <th>Mean</th>\n",
       "      <th>Std Dev</th>\n",
       "      <th>Minimum</th>\n",
       "      <th>Maximum</th>\n",
       "    </tr>\n",
       "  </thead>\n",
       "  <tbody>\n",
       "    <tr>\n",
       "      <th>0</th>\n",
       "      <td>LIMIT_BAL</td>\n",
       "      <td>30000</td>\n",
       "      <td>167484.32</td>\n",
       "      <td>129747.66</td>\n",
       "      <td>10000.0</td>\n",
       "      <td>1000000.0</td>\n",
       "    </tr>\n",
       "    <tr>\n",
       "      <th>1</th>\n",
       "      <td>AGE</td>\n",
       "      <td>30000</td>\n",
       "      <td>35.49</td>\n",
       "      <td>9.22</td>\n",
       "      <td>21.0</td>\n",
       "      <td>79.0</td>\n",
       "    </tr>\n",
       "  </tbody>\n",
       "</table>\n",
       "</div>"
      ],
      "text/plain": [
       "    Variable      N       Mean    Std Dev  Minimum    Maximum\n",
       "0  LIMIT_BAL  30000  167484.32  129747.66  10000.0  1000000.0\n",
       "1        AGE  30000      35.49       9.22     21.0       79.0"
      ]
     },
     "execution_count": 4,
     "metadata": {},
     "output_type": "execute_result"
    }
   ],
   "source": [
    "# view data\n",
    "proc_means(data,['LIMIT_BAL','AGE'])"
   ]
  },
  {
   "cell_type": "code",
   "execution_count": null,
   "id": "0ee2856f",
   "metadata": {},
   "outputs": [],
   "source": [
    "# View data details\n",
    "get_data_desc(data).head(20)"
   ]
  },
  {
   "cell_type": "code",
   "execution_count": null,
   "id": "9a1bffb4",
   "metadata": {},
   "outputs": [],
   "source": [
    "# View the specified statistics results\n",
    "get_data_desc(data,key=['#Mean'])"
   ]
  },
  {
   "cell_type": "code",
   "execution_count": null,
   "id": "7ab89d69",
   "metadata": {},
   "outputs": [],
   "source": [
    "# View data details, specify missing values and data precision\n",
    "get_data_desc(data,missing=[],precision=0)"
   ]
  },
  {
   "cell_type": "code",
   "execution_count": null,
   "id": "1e131427",
   "metadata": {},
   "outputs": [],
   "source": [
    "# View data details and display more descriptive statistics\n",
    "get_data_desc(data,key=['#Sum','#Min','#Q1','#Median','#Q3','#Max','#Mode','#Var','#Std','#Mean','#Kurt','#Skew','#StdMean','#Range','#Cv','#Sum_of_squares','Top1','Top2','Top3'])"
   ]
  },
  {
   "cell_type": "code",
   "execution_count": null,
   "id": "2a56552d",
   "metadata": {
    "scrolled": true
   },
   "outputs": [],
   "source": [
    "# View data details\n",
    "get_data_describe(data).head(20)"
   ]
  },
  {
   "cell_type": "code",
   "execution_count": null,
   "id": "3b958e3d",
   "metadata": {},
   "outputs": [],
   "source": [
    "# Create a DataFrame containing the English name of the feature and the feature description Label\n",
    "# Set the data dictionary of the column, including the Name and Label columns, which are used to save the English name and description of the feature\n",
    "col_dict = pd.DataFrame(data={'Name':['LIMIT_BAL','AGE','PAY_0'],'Label':['Credit balance','Customer age','Payment amount']})\n",
    "\n",
    "# Show feature description in data description\n",
    "get_data_describe(data,col_dict)"
   ]
  },
  {
   "cell_type": "markdown",
   "id": "55570efb",
   "metadata": {},
   "source": [
    "## View data distribution"
   ]
  },
  {
   "cell_type": "code",
   "execution_count": null,
   "id": "58fc09c2",
   "metadata": {},
   "outputs": [],
   "source": [
    "# View the data distribution of the target variable\n",
    "get_data_dist(data)"
   ]
  },
  {
   "cell_type": "code",
   "execution_count": null,
   "id": "e66e3dd3",
   "metadata": {},
   "outputs": [],
   "source": [
    "# Display the data distribution of the target variable according to the complete function name\n",
    "get_data_distribution(data)"
   ]
  },
  {
   "cell_type": "code",
   "execution_count": null,
   "id": "f68c85ee",
   "metadata": {},
   "outputs": [],
   "source": [
    "get_data_distribution(data,col='SEX')"
   ]
  },
  {
   "cell_type": "code",
   "execution_count": null,
   "id": "317b7961",
   "metadata": {},
   "outputs": [],
   "source": [
    "get_data_dist(data,col='MARRIAGE')"
   ]
  },
  {
   "cell_type": "code",
   "execution_count": null,
   "id": "0690931d",
   "metadata": {
    "scrolled": true
   },
   "outputs": [],
   "source": [
    "get_data_distribution(data,col='MARRIAGE',precision=2,by=['#Count'],ascending =[False])"
   ]
  },
  {
   "cell_type": "markdown",
   "id": "92e9f950",
   "metadata": {},
   "source": [
    "## Data partitioning"
   ]
  },
  {
   "cell_type": "code",
   "execution_count": null,
   "id": "bd2dfdc5",
   "metadata": {
    "scrolled": true
   },
   "outputs": [],
   "source": [
    "data_train,data_test = get_data_partition(data,0.25)\n",
    "get_data_dist(data_train)"
   ]
  },
  {
   "cell_type": "code",
   "execution_count": null,
   "id": "77ecc969",
   "metadata": {},
   "outputs": [],
   "source": [
    "#Remove duplicate values\n",
    "data_train.drop_duplicates(inplace=True)\n",
    "get_data_dist(data_train)"
   ]
  },
  {
   "cell_type": "markdown",
   "id": "f438027d",
   "metadata": {},
   "source": [
    "## Feature distribution"
   ]
  },
  {
   "cell_type": "markdown",
   "id": "fe003b01",
   "metadata": {},
   "source": [
    "### First, roughly divide the boxes and test the badRate trend of variables"
   ]
  },
  {
   "cell_type": "code",
   "execution_count": null,
   "id": "e1183799",
   "metadata": {},
   "outputs": [],
   "source": [
    "# Equal frequency sub-box, calculate WoE and IV\n",
    "get_woe_iv(data,col='AGE',qcut=5)"
   ]
  },
  {
   "cell_type": "code",
   "execution_count": null,
   "id": "745d55d3",
   "metadata": {},
   "outputs": [],
   "source": [
    "# Use the default decision tree method to split boxes\n",
    "get_woe_iv(data,col='AGE')"
   ]
  },
  {
   "cell_type": "code",
   "execution_count": null,
   "id": "48e64e8e",
   "metadata": {},
   "outputs": [],
   "source": [
    "# Use the default decision tree method to split boxes and display missing value grouping\n",
    "get_woe_iv(data,col='AGE',show_missing =True)"
   ]
  },
  {
   "cell_type": "code",
   "execution_count": null,
   "id": "46729710",
   "metadata": {
    "scrolled": true
   },
   "outputs": [],
   "source": [
    "# Set the number of decimal points for output\n",
    "get_woe_iv(data,'AGE',precision=4)"
   ]
  },
  {
   "cell_type": "code",
   "execution_count": null,
   "id": "91291c68",
   "metadata": {},
   "outputs": [],
   "source": [
    "# Divide the boxes according to the specified dividing point, and calculate WoE and IV\n",
    "get_woe_iv(data,'AGE',bins=[-inf,20,30,40,50,inf])"
   ]
  },
  {
   "cell_type": "code",
   "execution_count": null,
   "id": "55f72fb9",
   "metadata": {},
   "outputs": [],
   "source": [
    "# Use decision tree method to calculate WoE and IV\n",
    "get_woe_iv(data,'PAY_0',method='tree')"
   ]
  },
  {
   "cell_type": "code",
   "execution_count": null,
   "id": "9a43f50f",
   "metadata": {},
   "outputs": [],
   "source": [
    "# Specify the missing value type, and use the default decision tree box splitting method for box splitting, calculate WoE and IV\n",
    "data['PAY_0'][0] = np.nan\n",
    "data['PAY_0'][1] = -99999\n",
    "\n",
    "get_woe_iv(data,col='PAY_0',missing = [-99999])"
   ]
  },
  {
   "cell_type": "markdown",
   "id": "44a3316c",
   "metadata": {},
   "source": [
    "## View WoE and IV"
   ]
  },
  {
   "cell_type": "code",
   "execution_count": null,
   "id": "1446c0eb",
   "metadata": {
    "scrolled": true
   },
   "outputs": [],
   "source": [
    "# Calculate WoE and IV according to the default decision tree method, and view the distribution of WoE\n",
    "view_woe_iv(data,'AGE')"
   ]
  },
  {
   "cell_type": "code",
   "execution_count": null,
   "id": "a8dd5089",
   "metadata": {},
   "outputs": [],
   "source": [
    "# According to the default decision tree method, calculate WoE and IV, check the distribution of WoE, and set the displayed color to green\n",
    "view_woe_iv(data,'AGE',color='green')"
   ]
  },
  {
   "cell_type": "code",
   "execution_count": null,
   "id": "f2bfd530",
   "metadata": {},
   "outputs": [],
   "source": [
    "# Calculate WoE and IV according to the default decision tree method, view the distribution of WoE, and set the displayed color\n",
    "view_woe_iv(data,'AGE',color='#02B057')"
   ]
  },
  {
   "cell_type": "code",
   "execution_count": null,
   "id": "83c82f45",
   "metadata": {},
   "outputs": [],
   "source": [
    "# Divide the characteristics into five boxes according to the equal frequency sub-box, calculate WoE and IV, and check the distribution of WoE\n",
    "view_woe_iv(data,'AGE',qcut=5,precision=2)"
   ]
  },
  {
   "cell_type": "markdown",
   "id": "a2c55de0",
   "metadata": {},
   "source": [
    "## Calculate WOE and plot"
   ]
  },
  {
   "cell_type": "code",
   "execution_count": null,
   "id": "a1e82eb3",
   "metadata": {},
   "outputs": [],
   "source": [
    "# According to the default parameters, divide the features into boxes, calculate WoE, and display the graphics\n",
    "plot_woe(data,'AGE')"
   ]
  },
  {
   "cell_type": "code",
   "execution_count": null,
   "id": "6916c130",
   "metadata": {
    "scrolled": true
   },
   "outputs": [],
   "source": [
    "# According to the default parameters, divide the feature into boxes, calculate WoE, and display graphics and data\n",
    "plot_woe(data,'AGE',return_data =True)"
   ]
  },
  {
   "cell_type": "code",
   "execution_count": null,
   "id": "0bfbfdfd",
   "metadata": {
    "scrolled": true
   },
   "outputs": [],
   "source": [
    "# Calculate WoE according to the specified dividing point and display the graph\n",
    "plot_woe(data,'AGE',bins=[-inf,30,40,50,inf])"
   ]
  },
  {
   "cell_type": "code",
   "execution_count": null,
   "id": "1c272f3a",
   "metadata": {},
   "outputs": [],
   "source": [
    "get_woe_iv(data,'AGE',bins=[-inf,30,40,50,inf])"
   ]
  },
  {
   "cell_type": "code",
   "execution_count": null,
   "id": "e4b10e2b",
   "metadata": {},
   "outputs": [],
   "source": [
    "# According to the equal frequency sub-box, divide the feature into five boxes, calculate WoE, and display the graph\n",
    "plot_woe(data,'AGE',qcut=5)"
   ]
  },
  {
   "cell_type": "code",
   "execution_count": null,
   "id": "445b19a0",
   "metadata": {
    "scrolled": true
   },
   "outputs": [],
   "source": [
    "# Divide boxes according to the default decision tree method, calculate WoE, set the color and style of graphics, and display graphics\n",
    "plot_woe(data,'AGE',color=['blue','orange','red','black'],linewidth=2,linestyle='--')"
   ]
  },
  {
   "cell_type": "markdown",
   "id": "3ee16c29",
   "metadata": {},
   "source": [
    "## Calculate IV and draw"
   ]
  },
  {
   "cell_type": "code",
   "execution_count": null,
   "id": "c5552f95",
   "metadata": {
    "scrolled": true
   },
   "outputs": [],
   "source": [
    "# Divide boxes according to the default decision tree method, calculate IV, and display graphics\n",
    "plot_iv(data,'PAY_0')"
   ]
  },
  {
   "cell_type": "code",
   "execution_count": null,
   "id": "93d9693f",
   "metadata": {},
   "outputs": [],
   "source": [
    "# Divide boxes according to the default decision tree method, calculate IV, and display graphics and data\n",
    "plot_iv(data,'PAY_0',return_data=True)"
   ]
  },
  {
   "cell_type": "code",
   "execution_count": null,
   "id": "fa6c47fc",
   "metadata": {
    "scrolled": true
   },
   "outputs": [],
   "source": [
    "# Divide the boxes according to the decision tree method, calculate IV, and display graphics\n",
    "plot_iv(data,'PAY_0',method='tree')"
   ]
  },
  {
   "cell_type": "code",
   "execution_count": null,
   "id": "53e679e4",
   "metadata": {},
   "outputs": [],
   "source": [
    "# According to the equal frequency sub-box, divide the feature into five boxes, calculate IV, and display the figure\n",
    "plot_iv(data,'PAY_0',qcut=5)"
   ]
  },
  {
   "cell_type": "code",
   "execution_count": null,
   "id": "8411e0f8",
   "metadata": {},
   "outputs": [],
   "source": [
    "# According to the specified dividing point, divide the feature into boxes, calculate IV, and display the figure\n",
    "plot_iv(data,'PAY_0',bins=[-inf,1,inf])"
   ]
  },
  {
   "cell_type": "markdown",
   "id": "4afa4ffa",
   "metadata": {},
   "source": [
    "### Get the data type of the column, discrete and continuous"
   ]
  },
  {
   "cell_type": "code",
   "execution_count": null,
   "id": "a9f31517",
   "metadata": {
    "scrolled": false
   },
   "outputs": [],
   "source": [
    "col_types = get_col_type(data)\n",
    "col_types"
   ]
  },
  {
   "cell_type": "markdown",
   "id": "249b7115",
   "metadata": {},
   "source": [
    "## Decision-tree splitting"
   ]
  },
  {
   "cell_type": "code",
   "execution_count": null,
   "id": "04e24420",
   "metadata": {
    "scrolled": false
   },
   "outputs": [],
   "source": [
    "# According to the decision tree method, obtain the result of feature segmentation points\n",
    "get_tree_bins(data, 'AGE', max_leaf_nodes=4,min_samples_leaf=0.05)"
   ]
  },
  {
   "cell_type": "markdown",
   "id": "b94d9518",
   "metadata": {},
   "source": [
    "## Batch decision tree splitting"
   ]
  },
  {
   "cell_type": "code",
   "execution_count": null,
   "id": "91e20b18",
   "metadata": {
    "scrolled": true
   },
   "outputs": [],
   "source": [
    "data_bins = get_data_bins(data,max_leaf_nodes=4)\n",
    "data_bins"
   ]
  },
  {
   "cell_type": "markdown",
   "id": "9c5b7839",
   "metadata": {},
   "source": [
    "## Manually adjust the distribution box"
   ]
  },
  {
   "cell_type": "code",
   "execution_count": null,
   "id": "d1f4f93c",
   "metadata": {
    "scrolled": false
   },
   "outputs": [],
   "source": [
    "data_bins_adjust = set_update_bins(data_bins,\n",
    "[\n",
    "['AGE',[-inf,20,30,40,50,inf]],\n",
    "['BILL_AMT1',[-inf,1000,8000,50000,inf]],\n",
    "])\n",
    "data_bins_adjust"
   ]
  },
  {
   "cell_type": "markdown",
   "id": "fb98447c",
   "metadata": {},
   "source": [
    "## Data Discretization"
   ]
  },
  {
   "cell_type": "code",
   "execution_count": null,
   "id": "b5f7cad6",
   "metadata": {
    "scrolled": true
   },
   "outputs": [],
   "source": [
    "# Divide the boxes according to the decision tree and discretize the data\n",
    "get_data_discrete(data)"
   ]
  },
  {
   "cell_type": "code",
   "execution_count": null,
   "id": "7b8385c6",
   "metadata": {
    "scrolled": false
   },
   "outputs": [],
   "source": [
    "# 按照调整后的分箱结果进行离散化\n",
    "data_train_discrete = get_data_discrete(data_train,col_bin = data_bins_adjust)\n",
    "data_train_discrete.head()"
   ]
  },
  {
   "cell_type": "markdown",
   "id": "1c3ea15a",
   "metadata": {},
   "source": [
    "## WOE conversion"
   ]
  },
  {
   "cell_type": "code",
   "execution_count": null,
   "id": "5ec105e2",
   "metadata": {
    "scrolled": true
   },
   "outputs": [],
   "source": [
    "# Use the discretized data to perform WoE conversion in batches\n",
    "data_train_woe = get_woe_transform(data_train_discrete)\n",
    "data_train_woe.head()"
   ]
  },
  {
   "cell_type": "code",
   "execution_count": null,
   "id": "fc4bc09b",
   "metadata": {},
   "outputs": [],
   "source": [
    "## Specify method='discrete 'to calculate WoE and IV using the discretized column\n",
    "get_woe_iv(data_train_discrete, 'AGE',method='discrete')"
   ]
  },
  {
   "cell_type": "markdown",
   "id": "5d2aafca",
   "metadata": {},
   "source": [
    "## Batch calculate IV of all features"
   ]
  },
  {
   "cell_type": "code",
   "execution_count": null,
   "id": "33dcdf52",
   "metadata": {
    "scrolled": true
   },
   "outputs": [],
   "source": [
    "# Use the default decision tree box splitting method to batch calculate the IV of all variables in the dataset\n",
    "data_iv = get_data_iv(data_train)  \n",
    "data_iv"
   ]
  },
  {
   "cell_type": "markdown",
   "id": "b52ed676",
   "metadata": {},
   "source": [
    "## Calculate IV in batches based on discrete data"
   ]
  },
  {
   "cell_type": "code",
   "execution_count": null,
   "id": "5e24c825",
   "metadata": {},
   "outputs": [],
   "source": [
    "# Calculate IV in batches based on discrete data\n",
    "data_iv = get_data_iv(data_train_discrete,method='discrete')  \n",
    "data_iv"
   ]
  },
  {
   "cell_type": "markdown",
   "id": "b3dc89f0",
   "metadata": {},
   "source": [
    "## Filter features through minimum IV>=0.02 and maximum correlation<=0.6"
   ]
  },
  {
   "cell_type": "code",
   "execution_count": null,
   "id": "463f4341",
   "metadata": {},
   "outputs": [],
   "source": [
    "# Filter features through minimum IV>=0.02 and maximum correlation<=0.6\n",
    "# Only return the features that need to be retained\n",
    "get_feature_by_ivcorr(data_train,col_iv=data_iv,keep=[],drop=[],min_iv = 0.02,max_corr=0.5,return_drop=False)"
   ]
  },
  {
   "cell_type": "code",
   "execution_count": null,
   "id": "377e2371",
   "metadata": {},
   "outputs": [],
   "source": [
    "# Filter features through minimum IV>=0.02 and maximum correlation<=0.6\n",
    "# Return the features retained after filtering, features deleted according to IV, features deleted according to corr, and correlation matrix\n",
    "col_keep,col_drop_by_iv,col_drop_by_corr,iv_corr_result = get_feature_by_ivcorr(data_train,col_iv=data_iv,keep=[],drop=[],min_iv = 0.02,max_corr=0.5,target='target',return_drop=True)\n",
    "col_keep"
   ]
  },
  {
   "cell_type": "code",
   "execution_count": null,
   "id": "f9e432f2",
   "metadata": {},
   "outputs": [],
   "source": [
    "# Features deleted according to IV\n",
    "col_drop_by_iv"
   ]
  },
  {
   "cell_type": "code",
   "execution_count": null,
   "id": "38c6723c",
   "metadata": {},
   "outputs": [],
   "source": [
    "# Features deleted according to corr\n",
    "col_drop_by_corr"
   ]
  },
  {
   "cell_type": "code",
   "execution_count": null,
   "id": "4ea2055b",
   "metadata": {
    "scrolled": false
   },
   "outputs": [],
   "source": [
    "# IV and correlation matrix\n",
    "iv_corr_result.head()"
   ]
  },
  {
   "cell_type": "markdown",
   "id": "cadc39cd",
   "metadata": {},
   "source": [
    "## View feature correlation graph"
   ]
  },
  {
   "cell_type": "code",
   "execution_count": null,
   "id": "766df073",
   "metadata": {
    "scrolled": false
   },
   "outputs": [],
   "source": [
    "plot_corr(data_train[col_keep])"
   ]
  },
  {
   "cell_type": "code",
   "execution_count": null,
   "id": "9fefd965",
   "metadata": {},
   "outputs": [],
   "source": [
    "# Batch calculation of WoE, using the default decision tree box splitting method\n",
    "get_data_woe(data)  "
   ]
  },
  {
   "cell_type": "code",
   "execution_count": null,
   "id": "71e2ffe3",
   "metadata": {
    "scrolled": true
   },
   "outputs": [],
   "source": [
    "# Batch calculation IV, equal frequency sub-box, divided into 5 boxes\n",
    "get_data_iv(data,qcut=5)  "
   ]
  },
  {
   "cell_type": "markdown",
   "id": "7b752b11",
   "metadata": {},
   "source": [
    "## Get the IV list of model variables"
   ]
  },
  {
   "cell_type": "code",
   "execution_count": null,
   "id": "72be0dd1",
   "metadata": {},
   "outputs": [],
   "source": [
    "# Get the IV list of model variables\n",
    "get_model_iv(data_train_discrete[col_keep+['y']],data_iv,col_bins=data_bins_adjust,col_dict=col_dict,col_types=col_types)  "
   ]
  },
  {
   "cell_type": "markdown",
   "id": "6d911021",
   "metadata": {},
   "source": [
    "## Scorecard development"
   ]
  },
  {
   "cell_type": "code",
   "execution_count": null,
   "id": "3bcb3081",
   "metadata": {},
   "outputs": [],
   "source": [
    "# Develop scoring cards according to default parameters\n",
    "get_scorecard(data_train[col_keep + ['y']] ,data_bins_adjust)"
   ]
  },
  {
   "cell_type": "code",
   "execution_count": null,
   "id": "b9514e43",
   "metadata": {},
   "outputs": [],
   "source": [
    "# Set the data precision and return the details of the logical regression model\n",
    "scorecard,lr,a,b = get_scorecard(data_train[col_keep + ['y']] ,data_bins_adjust,precision=4,return_lr=True)\n",
    "scorecard"
   ]
  },
  {
   "cell_type": "code",
   "execution_count": null,
   "id": "908c5aa8",
   "metadata": {
    "scrolled": true
   },
   "outputs": [],
   "source": [
    "# View the details of the logical regression model\n",
    "lr.summary()"
   ]
  },
  {
   "cell_type": "markdown",
   "id": "c8cfd172",
   "metadata": {},
   "source": [
    "## Check VIF"
   ]
  },
  {
   "cell_type": "code",
   "execution_count": null,
   "id": "4ba5b4a2",
   "metadata": {},
   "outputs": [],
   "source": [
    "get_vif(data_train_woe,data_train_woe.columns,return_data=True)"
   ]
  },
  {
   "cell_type": "code",
   "execution_count": null,
   "id": "18260f72",
   "metadata": {},
   "outputs": [],
   "source": [
    "# View the parameters of the scorecard model\n",
    "print('a:',a,'','b:',b)"
   ]
  },
  {
   "cell_type": "markdown",
   "id": "924549d2",
   "metadata": {},
   "source": [
    "## Predict model score"
   ]
  },
  {
   "cell_type": "code",
   "execution_count": null,
   "id": "9c590891",
   "metadata": {
    "scrolled": true
   },
   "outputs": [],
   "source": [
    "#  Predict training set model score\n",
    "data_train_score = get_predict_score(data_train,scorecard)\n",
    "data_train_score"
   ]
  },
  {
   "cell_type": "code",
   "execution_count": null,
   "id": "4732a091",
   "metadata": {},
   "outputs": [],
   "source": [
    "# Predict test set model score\n",
    "data_test_score = get_predict_score(data_test,scorecard)\n",
    "data_test_score"
   ]
  },
  {
   "cell_type": "markdown",
   "id": "10f8b357",
   "metadata": {},
   "source": [
    "## Calculate AUC and KS"
   ]
  },
  {
   "cell_type": "code",
   "execution_count": null,
   "id": "57fb4065",
   "metadata": {},
   "outputs": [],
   "source": [
    "plot_roc_ks(data_train,scorecard)"
   ]
  },
  {
   "cell_type": "code",
   "execution_count": null,
   "id": "e8b98548",
   "metadata": {
    "scrolled": true
   },
   "outputs": [],
   "source": [
    "# Calculate auc and ks and return ks result data\n",
    "plot_roc_ks(data_train,scorecard,return_data=True,precision=4)"
   ]
  },
  {
   "cell_type": "markdown",
   "id": "1032b71f",
   "metadata": {},
   "source": [
    "## AUC calculation"
   ]
  },
  {
   "cell_type": "code",
   "execution_count": null,
   "id": "c19ee8f2",
   "metadata": {
    "scrolled": true
   },
   "outputs": [],
   "source": [
    "# Calculate auc according to training set and scoring card\n",
    "get_auc_by_card(data_train,scorecard)"
   ]
  },
  {
   "cell_type": "code",
   "execution_count": null,
   "id": "2d920b7e",
   "metadata": {},
   "outputs": [],
   "source": [
    "# Calculate auc according to the prediction results\n",
    "get_auc(data_predict_score)"
   ]
  },
  {
   "cell_type": "code",
   "execution_count": null,
   "id": "aa7c30eb",
   "metadata": {},
   "outputs": [],
   "source": [
    "# According to the prediction results, calculate auc and return data\n",
    "get_auc(data_train_score,return_data=True)"
   ]
  },
  {
   "cell_type": "markdown",
   "id": "96e45fe0",
   "metadata": {},
   "source": [
    "## KS calculation"
   ]
  },
  {
   "cell_type": "code",
   "execution_count": null,
   "id": "93e68693",
   "metadata": {},
   "outputs": [],
   "source": [
    "# Calculate ks according to training set and scoring card\n",
    "get_ks_by_card(data_train,scorecard)"
   ]
  },
  {
   "cell_type": "code",
   "execution_count": null,
   "id": "e5a5a479",
   "metadata": {},
   "outputs": [],
   "source": [
    "# Calculate ks according to the prediction results\n",
    "get_ks(data_predict_score)"
   ]
  },
  {
   "cell_type": "code",
   "execution_count": null,
   "id": "e00f9a81",
   "metadata": {},
   "outputs": [],
   "source": [
    "# Calculate ks and return data according to the prediction results\n",
    "get_ks(data_train_score,return_data=True)"
   ]
  },
  {
   "cell_type": "code",
   "execution_count": null,
   "id": "27f38631",
   "metadata": {},
   "outputs": [],
   "source": [
    "# Calculate ks and return data according to the prediction results\n",
    "ks,ks_data = get_ks(data_train_score,return_data=True)\n",
    "ks_data"
   ]
  },
  {
   "cell_type": "markdown",
   "id": "f5c74253",
   "metadata": {},
   "source": [
    "## View scorecard score distribution and improvement"
   ]
  },
  {
   "cell_type": "code",
   "execution_count": null,
   "id": "886f3ad3",
   "metadata": {},
   "outputs": [],
   "source": [
    "# View scorecard score distribution and improvement\n",
    "get_score_dist(data_train_score)"
   ]
  },
  {
   "cell_type": "code",
   "execution_count": null,
   "id": "41f87167",
   "metadata": {},
   "outputs": [],
   "source": [
    "# View the score distribution and improvement degree of the scorecard, divide it into 5 groups, and view the improvement degree\n",
    "get_score_dist(data_train_score,qcut=5)"
   ]
  },
  {
   "cell_type": "code",
   "execution_count": null,
   "id": "9a0dabbb",
   "metadata": {},
   "outputs": [],
   "source": [
    "# View the score distribution and improvement degree of the scorecard, divide it into 5 groups, and view the improvement degree\n",
    "view_score_dist(data_train_score,qcut=5)"
   ]
  },
  {
   "cell_type": "code",
   "execution_count": null,
   "id": "af017bb7",
   "metadata": {},
   "outputs": [],
   "source": [
    "# View the score distribution and improvement degree of the scorecard, divide it into 5 groups, and view the improvement degree\n",
    "view_score_dist(data_train_score,qcut=5,color='green')"
   ]
  },
  {
   "cell_type": "code",
   "execution_count": null,
   "id": "7bfd8289",
   "metadata": {},
   "outputs": [],
   "source": [
    "#View the score distribution and improvement degree of the scorecard, divide it into 5 groups, and view the improvement degree\n",
    "view_score_dist(data_train_score,qcut=5,color='#02B057')"
   ]
  },
  {
   "cell_type": "code",
   "execution_count": null,
   "id": "ebf116bb",
   "metadata": {},
   "outputs": [],
   "source": [
    "# View scorecard score distribution and improvement\n",
    "get_score_dist(data_train_score)"
   ]
  },
  {
   "cell_type": "code",
   "execution_count": null,
   "id": "01dc469c",
   "metadata": {
    "scrolled": true
   },
   "outputs": [],
   "source": [
    "# Draw lifting degree diagram\n",
    "plot_lift(data_train_score)"
   ]
  },
  {
   "cell_type": "code",
   "execution_count": null,
   "id": "c0961315",
   "metadata": {
    "scrolled": true
   },
   "outputs": [],
   "source": [
    "# Draw lifting degree diagram and output lifting degree table\n",
    "plot_lift(data_train_score,return_data=True)"
   ]
  },
  {
   "cell_type": "code",
   "execution_count": null,
   "id": "51bf2861",
   "metadata": {
    "scrolled": true
   },
   "outputs": [],
   "source": [
    "# Scorecard score distribution\n",
    "import matplotlib.pyplot as plt\n",
    "plt.style.use('default')\n",
    "fig=plt.figure()\n",
    "ax1=fig.add_subplot(1,1,1)\n",
    "ax1.hist(data_train_score['Score'] )\n",
    "plt.show()"
   ]
  },
  {
   "cell_type": "markdown",
   "id": "b029d0bc",
   "metadata": {},
   "source": [
    "## Model stability PSI calculation"
   ]
  },
  {
   "cell_type": "code",
   "execution_count": null,
   "id": "d13af529",
   "metadata": {},
   "outputs": [],
   "source": [
    "data_train_score = get_predict_score(data_train,scorecard)\n",
    "data_test_score = get_predict_score(data_test,scorecard)\n",
    "\n",
    "# Divide into 10 groups according to the equal frequency sub-box, and calculate the PSI of the model score\n",
    "get_psi(data_train_score,data_test_score)"
   ]
  },
  {
   "cell_type": "code",
   "execution_count": null,
   "id": "faee4b2f",
   "metadata": {},
   "outputs": [],
   "source": [
    "# Divide into 10 groups according to the equal frequency sub-box, and calculate the PSI of the model score\n",
    "view_psi(data_train_score,data_test_score)"
   ]
  },
  {
   "cell_type": "code",
   "execution_count": null,
   "id": "bd9ce941",
   "metadata": {},
   "outputs": [],
   "source": [
    "# Divide into 10 groups according to the equal frequency sub-box, and calculate the PSI of the model score\n",
    "view_psi(data_train_score,data_test_score,color='#02B057')"
   ]
  },
  {
   "cell_type": "code",
   "execution_count": null,
   "id": "90daaab2",
   "metadata": {},
   "outputs": [],
   "source": [
    "data_train_score = get_predict_score(data_train,scorecard)\n",
    "data_test_score = get_predict_score(data_test,scorecard)\n",
    "\n",
    "# Divide into 5 groups according to the equal frequency sub-box, and calculate the PSI\n",
    "get_psi(data_train_score,data_test_score,col='LIMIT_BAL',qcut=5,precision=4)"
   ]
  },
  {
   "cell_type": "code",
   "execution_count": null,
   "id": "65a414d6",
   "metadata": {
    "scrolled": true
   },
   "outputs": [],
   "source": [
    "data_train_score = get_predict_score(data_train,scorecard)\n",
    "data_test_score = get_predict_score(data_test,scorecard)\n",
    "\n",
    "# Calculate PSI according to the specified cut point\n",
    "get_psi(data_train_score,data_test_score,col='LIMIT_BAL',bins=[-inf,30000,50000,100000,inf],precision=4)"
   ]
  },
  {
   "cell_type": "code",
   "execution_count": null,
   "id": "29401634",
   "metadata": {},
   "outputs": [],
   "source": [
    "# Batch calculate PSI of all features\n",
    "data_train_score = get_predict_score(data_train,scorecard)\n",
    "data_test_score = get_predict_score(data_test,scorecard)\n",
    "\n",
    "get_data_psi(data_train_score,data_test_score,precision=4)"
   ]
  }
 ],
 "metadata": {
  "kernelspec": {
   "display_name": "Python 3 (ipykernel)",
   "language": "python",
   "name": "python3"
  },
  "language_info": {
   "codemirror_mode": {
    "name": "ipython",
    "version": 3
   },
   "file_extension": ".py",
   "mimetype": "text/x-python",
   "name": "python",
   "nbconvert_exporter": "python",
   "pygments_lexer": "ipython3",
   "version": "3.11.1"
  }
 },
 "nbformat": 4,
 "nbformat_minor": 5
}

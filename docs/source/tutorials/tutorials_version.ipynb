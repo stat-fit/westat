{
 "cells": [
  {
   "cell_type": "markdown",
   "id": "6b5a5d08",
   "metadata": {},
   "source": [
    "## 查看westat版本号和安装路径"
   ]
  },
  {
   "cell_type": "code",
   "execution_count": 1,
   "id": "b5995cd6",
   "metadata": {},
   "outputs": [
    {
     "name": "stdout",
     "output_type": "stream",
     "text": [
      "version: 0.2.1\n",
      "path: ['C:\\\\Users\\\\about\\\\anaconda3\\\\lib\\\\site-packages\\\\westat']\n"
     ]
    }
   ],
   "source": [
    "import westat as we\n",
    "\n",
    "print('version:',we.version)\n",
    "print('path:',we.__path__)"
   ]
  }
 ],
 "metadata": {
  "kernelspec": {
   "display_name": "Python 3 (ipykernel)",
   "language": "python",
   "name": "python3"
  },
  "language_info": {
   "codemirror_mode": {
    "name": "ipython",
    "version": 3
   },
   "file_extension": ".py",
   "mimetype": "text/x-python",
   "name": "python",
   "nbconvert_exporter": "python",
   "pygments_lexer": "ipython3",
   "version": "3.10.9"
  }
 },
 "nbformat": 4,
 "nbformat_minor": 5
}

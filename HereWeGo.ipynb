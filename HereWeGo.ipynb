{
 "cells": [
  {
   "cell_type": "code",
   "execution_count": 1,
   "id": "b5995cd6",
   "metadata": {},
   "outputs": [
    {
     "name": "stdout",
     "output_type": "stream",
     "text": [
      "version: 0.2.1\n",
      "path: ['C:\\\\Users\\\\Administrator\\\\Documents\\\\westat\\\\westat']\n"
     ]
    }
   ],
   "source": [
    "# 查看westat版本号和安装路径\n",
    "import westat\n",
    "print('version:',westat.version)\n",
    "print('path:',westat.__path__)"
   ]
  },
  {
   "cell_type": "markdown",
   "id": "938cacb9",
   "metadata": {},
   "source": [
    "## 一、数据准备"
   ]
  },
  {
   "cell_type": "code",
   "execution_count": 2,
   "id": "4071adcd",
   "metadata": {},
   "outputs": [
    {
     "data": {
      "text/html": [
       "<div>\n",
       "<style scoped>\n",
       "    .dataframe tbody tr th:only-of-type {\n",
       "        vertical-align: middle;\n",
       "    }\n",
       "\n",
       "    .dataframe tbody tr th {\n",
       "        vertical-align: top;\n",
       "    }\n",
       "\n",
       "    .dataframe thead th {\n",
       "        text-align: right;\n",
       "    }\n",
       "</style>\n",
       "<table border=\"1\" class=\"dataframe\">\n",
       "  <thead>\n",
       "    <tr style=\"text-align: right;\">\n",
       "      <th></th>\n",
       "      <th>ID</th>\n",
       "      <th>LIMIT_BAL</th>\n",
       "      <th>SEX</th>\n",
       "      <th>EDUCATION</th>\n",
       "      <th>MARRIAGE</th>\n",
       "      <th>AGE</th>\n",
       "      <th>PAY_0</th>\n",
       "      <th>PAY_2</th>\n",
       "      <th>PAY_3</th>\n",
       "      <th>PAY_4</th>\n",
       "      <th>PAY_5</th>\n",
       "      <th>PAY_6</th>\n",
       "      <th>BILL_AMT1</th>\n",
       "      <th>BILL_AMT2</th>\n",
       "      <th>BILL_AMT3</th>\n",
       "      <th>BILL_AMT4</th>\n",
       "      <th>BILL_AMT5</th>\n",
       "      <th>BILL_AMT6</th>\n",
       "      <th>PAY_AMT1</th>\n",
       "      <th>PAY_AMT2</th>\n",
       "      <th>PAY_AMT3</th>\n",
       "      <th>PAY_AMT4</th>\n",
       "      <th>PAY_AMT5</th>\n",
       "      <th>PAY_AMT6</th>\n",
       "      <th>target</th>\n",
       "    </tr>\n",
       "  </thead>\n",
       "  <tbody>\n",
       "    <tr>\n",
       "      <th>0</th>\n",
       "      <td>1</td>\n",
       "      <td>20000.00</td>\n",
       "      <td>2</td>\n",
       "      <td>2</td>\n",
       "      <td>1</td>\n",
       "      <td>24</td>\n",
       "      <td>2</td>\n",
       "      <td>2</td>\n",
       "      <td>-1</td>\n",
       "      <td>-1</td>\n",
       "      <td>-2</td>\n",
       "      <td>-2</td>\n",
       "      <td>3913.00</td>\n",
       "      <td>3102.00</td>\n",
       "      <td>689.00</td>\n",
       "      <td>0.00</td>\n",
       "      <td>0.00</td>\n",
       "      <td>0.00</td>\n",
       "      <td>0.00</td>\n",
       "      <td>689.00</td>\n",
       "      <td>0.00</td>\n",
       "      <td>0.00</td>\n",
       "      <td>0.00</td>\n",
       "      <td>0.00</td>\n",
       "      <td>1</td>\n",
       "    </tr>\n",
       "    <tr>\n",
       "      <th>1</th>\n",
       "      <td>2</td>\n",
       "      <td>120000.00</td>\n",
       "      <td>2</td>\n",
       "      <td>2</td>\n",
       "      <td>2</td>\n",
       "      <td>26</td>\n",
       "      <td>-1</td>\n",
       "      <td>2</td>\n",
       "      <td>0</td>\n",
       "      <td>0</td>\n",
       "      <td>0</td>\n",
       "      <td>2</td>\n",
       "      <td>2682.00</td>\n",
       "      <td>1725.00</td>\n",
       "      <td>2682.00</td>\n",
       "      <td>3272.00</td>\n",
       "      <td>3455.00</td>\n",
       "      <td>3261.00</td>\n",
       "      <td>0.00</td>\n",
       "      <td>1000.00</td>\n",
       "      <td>1000.00</td>\n",
       "      <td>1000.00</td>\n",
       "      <td>0.00</td>\n",
       "      <td>2000.00</td>\n",
       "      <td>1</td>\n",
       "    </tr>\n",
       "    <tr>\n",
       "      <th>2</th>\n",
       "      <td>3</td>\n",
       "      <td>90000.00</td>\n",
       "      <td>2</td>\n",
       "      <td>2</td>\n",
       "      <td>2</td>\n",
       "      <td>34</td>\n",
       "      <td>0</td>\n",
       "      <td>0</td>\n",
       "      <td>0</td>\n",
       "      <td>0</td>\n",
       "      <td>0</td>\n",
       "      <td>0</td>\n",
       "      <td>29239.00</td>\n",
       "      <td>14027.00</td>\n",
       "      <td>13559.00</td>\n",
       "      <td>14331.00</td>\n",
       "      <td>14948.00</td>\n",
       "      <td>15549.00</td>\n",
       "      <td>1518.00</td>\n",
       "      <td>1500.00</td>\n",
       "      <td>1000.00</td>\n",
       "      <td>1000.00</td>\n",
       "      <td>1000.00</td>\n",
       "      <td>5000.00</td>\n",
       "      <td>0</td>\n",
       "    </tr>\n",
       "    <tr>\n",
       "      <th>3</th>\n",
       "      <td>4</td>\n",
       "      <td>50000.00</td>\n",
       "      <td>2</td>\n",
       "      <td>2</td>\n",
       "      <td>1</td>\n",
       "      <td>37</td>\n",
       "      <td>0</td>\n",
       "      <td>0</td>\n",
       "      <td>0</td>\n",
       "      <td>0</td>\n",
       "      <td>0</td>\n",
       "      <td>0</td>\n",
       "      <td>46990.00</td>\n",
       "      <td>48233.00</td>\n",
       "      <td>49291.00</td>\n",
       "      <td>28314.00</td>\n",
       "      <td>28959.00</td>\n",
       "      <td>29547.00</td>\n",
       "      <td>2000.00</td>\n",
       "      <td>2019.00</td>\n",
       "      <td>1200.00</td>\n",
       "      <td>1100.00</td>\n",
       "      <td>1069.00</td>\n",
       "      <td>1000.00</td>\n",
       "      <td>0</td>\n",
       "    </tr>\n",
       "    <tr>\n",
       "      <th>4</th>\n",
       "      <td>5</td>\n",
       "      <td>50000.00</td>\n",
       "      <td>1</td>\n",
       "      <td>2</td>\n",
       "      <td>1</td>\n",
       "      <td>57</td>\n",
       "      <td>-1</td>\n",
       "      <td>0</td>\n",
       "      <td>-1</td>\n",
       "      <td>0</td>\n",
       "      <td>0</td>\n",
       "      <td>0</td>\n",
       "      <td>8617.00</td>\n",
       "      <td>5670.00</td>\n",
       "      <td>35835.00</td>\n",
       "      <td>20940.00</td>\n",
       "      <td>19146.00</td>\n",
       "      <td>19131.00</td>\n",
       "      <td>2000.00</td>\n",
       "      <td>36681.00</td>\n",
       "      <td>10000.00</td>\n",
       "      <td>9000.00</td>\n",
       "      <td>689.00</td>\n",
       "      <td>679.00</td>\n",
       "      <td>0</td>\n",
       "    </tr>\n",
       "  </tbody>\n",
       "</table>\n",
       "</div>"
      ],
      "text/plain": [
       "   ID  LIMIT_BAL  SEX  EDUCATION  MARRIAGE  AGE  PAY_0  PAY_2  PAY_3  PAY_4  \\\n",
       "0   1   20000.00    2          2         1   24      2      2     -1     -1   \n",
       "1   2  120000.00    2          2         2   26     -1      2      0      0   \n",
       "2   3   90000.00    2          2         2   34      0      0      0      0   \n",
       "3   4   50000.00    2          2         1   37      0      0      0      0   \n",
       "4   5   50000.00    1          2         1   57     -1      0     -1      0   \n",
       "\n",
       "   PAY_5  PAY_6  BILL_AMT1  BILL_AMT2  BILL_AMT3  BILL_AMT4  BILL_AMT5  \\\n",
       "0     -2     -2    3913.00    3102.00     689.00       0.00       0.00   \n",
       "1      0      2    2682.00    1725.00    2682.00    3272.00    3455.00   \n",
       "2      0      0   29239.00   14027.00   13559.00   14331.00   14948.00   \n",
       "3      0      0   46990.00   48233.00   49291.00   28314.00   28959.00   \n",
       "4      0      0    8617.00    5670.00   35835.00   20940.00   19146.00   \n",
       "\n",
       "   BILL_AMT6  PAY_AMT1  PAY_AMT2  PAY_AMT3  PAY_AMT4  PAY_AMT5  PAY_AMT6  \\\n",
       "0       0.00      0.00    689.00      0.00      0.00      0.00      0.00   \n",
       "1    3261.00      0.00   1000.00   1000.00   1000.00      0.00   2000.00   \n",
       "2   15549.00   1518.00   1500.00   1000.00   1000.00   1000.00   5000.00   \n",
       "3   29547.00   2000.00   2019.00   1200.00   1100.00   1069.00   1000.00   \n",
       "4   19131.00   2000.00  36681.00  10000.00   9000.00    689.00    679.00   \n",
       "\n",
       "   target  \n",
       "0       1  \n",
       "1       1  \n",
       "2       0  \n",
       "3       0  \n",
       "4       0  "
      ]
     },
     "execution_count": 2,
     "metadata": {},
     "output_type": "execute_result"
    }
   ],
   "source": [
    "from westat import *\n",
    "\n",
    "# westat 自带了 GiveMeSomeCredit 和 UCI_Credit_Card 两个数据集，可使用 GiveMeSomeCredit() 或 credit_card() 导入相关数据\n",
    "# data=GiveMeSomeCredit()\n",
    "# data_train = data.train\n",
    "# data_test = data.test\n",
    "\n",
    "# data=credit_card()\n",
    "\n",
    "\n",
    "data=credit_card()\n",
    "data.head()"
   ]
  },
  {
   "cell_type": "code",
   "execution_count": 3,
   "id": "55822107",
   "metadata": {},
   "outputs": [
    {
     "data": {
      "text/html": [
       "<div>\n",
       "<style scoped>\n",
       "    .dataframe tbody tr th:only-of-type {\n",
       "        vertical-align: middle;\n",
       "    }\n",
       "\n",
       "    .dataframe tbody tr th {\n",
       "        vertical-align: top;\n",
       "    }\n",
       "\n",
       "    .dataframe thead th {\n",
       "        text-align: right;\n",
       "    }\n",
       "</style>\n",
       "<table border=\"1\" class=\"dataframe\">\n",
       "  <thead>\n",
       "    <tr style=\"text-align: right;\">\n",
       "      <th></th>\n",
       "      <th>ID</th>\n",
       "      <th>LIMIT_BAL</th>\n",
       "      <th>SEX</th>\n",
       "      <th>EDUCATION</th>\n",
       "      <th>MARRIAGE</th>\n",
       "      <th>AGE</th>\n",
       "      <th>PAY_0</th>\n",
       "      <th>PAY_2</th>\n",
       "      <th>PAY_3</th>\n",
       "      <th>PAY_4</th>\n",
       "      <th>PAY_5</th>\n",
       "      <th>PAY_6</th>\n",
       "      <th>BILL_AMT1</th>\n",
       "      <th>BILL_AMT2</th>\n",
       "      <th>BILL_AMT3</th>\n",
       "      <th>BILL_AMT4</th>\n",
       "      <th>BILL_AMT5</th>\n",
       "      <th>BILL_AMT6</th>\n",
       "      <th>PAY_AMT1</th>\n",
       "      <th>PAY_AMT2</th>\n",
       "      <th>PAY_AMT3</th>\n",
       "      <th>PAY_AMT4</th>\n",
       "      <th>PAY_AMT5</th>\n",
       "      <th>PAY_AMT6</th>\n",
       "      <th>y</th>\n",
       "    </tr>\n",
       "  </thead>\n",
       "  <tbody>\n",
       "    <tr>\n",
       "      <th>0</th>\n",
       "      <td>1</td>\n",
       "      <td>20000.00</td>\n",
       "      <td>2</td>\n",
       "      <td>2</td>\n",
       "      <td>1</td>\n",
       "      <td>24</td>\n",
       "      <td>2</td>\n",
       "      <td>2</td>\n",
       "      <td>-1</td>\n",
       "      <td>-1</td>\n",
       "      <td>-2</td>\n",
       "      <td>-2</td>\n",
       "      <td>3913.00</td>\n",
       "      <td>3102.00</td>\n",
       "      <td>689.00</td>\n",
       "      <td>0.00</td>\n",
       "      <td>0.00</td>\n",
       "      <td>0.00</td>\n",
       "      <td>0.00</td>\n",
       "      <td>689.00</td>\n",
       "      <td>0.00</td>\n",
       "      <td>0.00</td>\n",
       "      <td>0.00</td>\n",
       "      <td>0.00</td>\n",
       "      <td>1</td>\n",
       "    </tr>\n",
       "    <tr>\n",
       "      <th>1</th>\n",
       "      <td>2</td>\n",
       "      <td>120000.00</td>\n",
       "      <td>2</td>\n",
       "      <td>2</td>\n",
       "      <td>2</td>\n",
       "      <td>26</td>\n",
       "      <td>-1</td>\n",
       "      <td>2</td>\n",
       "      <td>0</td>\n",
       "      <td>0</td>\n",
       "      <td>0</td>\n",
       "      <td>2</td>\n",
       "      <td>2682.00</td>\n",
       "      <td>1725.00</td>\n",
       "      <td>2682.00</td>\n",
       "      <td>3272.00</td>\n",
       "      <td>3455.00</td>\n",
       "      <td>3261.00</td>\n",
       "      <td>0.00</td>\n",
       "      <td>1000.00</td>\n",
       "      <td>1000.00</td>\n",
       "      <td>1000.00</td>\n",
       "      <td>0.00</td>\n",
       "      <td>2000.00</td>\n",
       "      <td>1</td>\n",
       "    </tr>\n",
       "    <tr>\n",
       "      <th>2</th>\n",
       "      <td>3</td>\n",
       "      <td>90000.00</td>\n",
       "      <td>2</td>\n",
       "      <td>2</td>\n",
       "      <td>2</td>\n",
       "      <td>34</td>\n",
       "      <td>0</td>\n",
       "      <td>0</td>\n",
       "      <td>0</td>\n",
       "      <td>0</td>\n",
       "      <td>0</td>\n",
       "      <td>0</td>\n",
       "      <td>29239.00</td>\n",
       "      <td>14027.00</td>\n",
       "      <td>13559.00</td>\n",
       "      <td>14331.00</td>\n",
       "      <td>14948.00</td>\n",
       "      <td>15549.00</td>\n",
       "      <td>1518.00</td>\n",
       "      <td>1500.00</td>\n",
       "      <td>1000.00</td>\n",
       "      <td>1000.00</td>\n",
       "      <td>1000.00</td>\n",
       "      <td>5000.00</td>\n",
       "      <td>0</td>\n",
       "    </tr>\n",
       "    <tr>\n",
       "      <th>3</th>\n",
       "      <td>4</td>\n",
       "      <td>50000.00</td>\n",
       "      <td>2</td>\n",
       "      <td>2</td>\n",
       "      <td>1</td>\n",
       "      <td>37</td>\n",
       "      <td>0</td>\n",
       "      <td>0</td>\n",
       "      <td>0</td>\n",
       "      <td>0</td>\n",
       "      <td>0</td>\n",
       "      <td>0</td>\n",
       "      <td>46990.00</td>\n",
       "      <td>48233.00</td>\n",
       "      <td>49291.00</td>\n",
       "      <td>28314.00</td>\n",
       "      <td>28959.00</td>\n",
       "      <td>29547.00</td>\n",
       "      <td>2000.00</td>\n",
       "      <td>2019.00</td>\n",
       "      <td>1200.00</td>\n",
       "      <td>1100.00</td>\n",
       "      <td>1069.00</td>\n",
       "      <td>1000.00</td>\n",
       "      <td>0</td>\n",
       "    </tr>\n",
       "    <tr>\n",
       "      <th>4</th>\n",
       "      <td>5</td>\n",
       "      <td>50000.00</td>\n",
       "      <td>1</td>\n",
       "      <td>2</td>\n",
       "      <td>1</td>\n",
       "      <td>57</td>\n",
       "      <td>-1</td>\n",
       "      <td>0</td>\n",
       "      <td>-1</td>\n",
       "      <td>0</td>\n",
       "      <td>0</td>\n",
       "      <td>0</td>\n",
       "      <td>8617.00</td>\n",
       "      <td>5670.00</td>\n",
       "      <td>35835.00</td>\n",
       "      <td>20940.00</td>\n",
       "      <td>19146.00</td>\n",
       "      <td>19131.00</td>\n",
       "      <td>2000.00</td>\n",
       "      <td>36681.00</td>\n",
       "      <td>10000.00</td>\n",
       "      <td>9000.00</td>\n",
       "      <td>689.00</td>\n",
       "      <td>679.00</td>\n",
       "      <td>0</td>\n",
       "    </tr>\n",
       "  </tbody>\n",
       "</table>\n",
       "</div>"
      ],
      "text/plain": [
       "   ID  LIMIT_BAL  SEX  EDUCATION  MARRIAGE  AGE  PAY_0  PAY_2  PAY_3  PAY_4  \\\n",
       "0   1   20000.00    2          2         1   24      2      2     -1     -1   \n",
       "1   2  120000.00    2          2         2   26     -1      2      0      0   \n",
       "2   3   90000.00    2          2         2   34      0      0      0      0   \n",
       "3   4   50000.00    2          2         1   37      0      0      0      0   \n",
       "4   5   50000.00    1          2         1   57     -1      0     -1      0   \n",
       "\n",
       "   PAY_5  PAY_6  BILL_AMT1  BILL_AMT2  BILL_AMT3  BILL_AMT4  BILL_AMT5  \\\n",
       "0     -2     -2    3913.00    3102.00     689.00       0.00       0.00   \n",
       "1      0      2    2682.00    1725.00    2682.00    3272.00    3455.00   \n",
       "2      0      0   29239.00   14027.00   13559.00   14331.00   14948.00   \n",
       "3      0      0   46990.00   48233.00   49291.00   28314.00   28959.00   \n",
       "4      0      0    8617.00    5670.00   35835.00   20940.00   19146.00   \n",
       "\n",
       "   BILL_AMT6  PAY_AMT1  PAY_AMT2  PAY_AMT3  PAY_AMT4  PAY_AMT5  PAY_AMT6  y  \n",
       "0       0.00      0.00    689.00      0.00      0.00      0.00      0.00  1  \n",
       "1    3261.00      0.00   1000.00   1000.00   1000.00      0.00   2000.00  1  \n",
       "2   15549.00   1518.00   1500.00   1000.00   1000.00   1000.00   5000.00  0  \n",
       "3   29547.00   2000.00   2019.00   1200.00   1100.00   1069.00   1000.00  0  \n",
       "4   19131.00   2000.00  36681.00  10000.00   9000.00    689.00    679.00  0  "
      ]
     },
     "execution_count": 3,
     "metadata": {},
     "output_type": "execute_result"
    }
   ],
   "source": [
    "# 将目标变量重命名为“y”\n",
    "data.rename(columns={'target':'y'},inplace=True)\n",
    "data.head()"
   ]
  },
  {
   "cell_type": "markdown",
   "id": "22e29b9f",
   "metadata": {},
   "source": [
    "## 二、数据探索"
   ]
  },
  {
   "cell_type": "code",
   "execution_count": null,
   "id": "966cc4c9",
   "metadata": {},
   "outputs": [],
   "source": [
    "# 查看数据\n",
    "proc_means(data,['LIMIT_BAL','AGE'])"
   ]
  },
  {
   "cell_type": "code",
   "execution_count": null,
   "id": "0ee2856f",
   "metadata": {},
   "outputs": [],
   "source": [
    "# 查看全部数据详情\n",
    "data_desc(data)"
   ]
  },
  {
   "cell_type": "code",
   "execution_count": null,
   "id": "a9fc74b2",
   "metadata": {},
   "outputs": [],
   "source": [
    "# 查看指定列的数据详情\n",
    "data_desc(data[['AGE','PAY_0']])"
   ]
  },
  {
   "cell_type": "code",
   "execution_count": null,
   "id": "9a1bffb4",
   "metadata": {},
   "outputs": [],
   "source": [
    "# 查看指定的统计结果\n",
    "data_desc(data,key=['#Mean'])"
   ]
  },
  {
   "cell_type": "code",
   "execution_count": null,
   "id": "7ab89d69",
   "metadata": {
    "scrolled": false
   },
   "outputs": [],
   "source": [
    "# 查看数据详细信息，指定缺失值和数据精度\n",
    "data_desc(data,missing=[],precision=0)"
   ]
  },
  {
   "cell_type": "code",
   "execution_count": null,
   "id": "b63d1f05",
   "metadata": {
    "scrolled": false
   },
   "outputs": [],
   "source": [
    "# 查看数据详细信息，显示更多描述性统计信息，并以中文显示标题\n",
    "data_desc(data,key=['Type','#Sum','#Min','#Q1','#Median','#Q3','#Max','#Mode','#Var','#Std','#Mean','#Kurt','#Skew','#StdMean','#Range','#Cv','#Sum_of_squares','Top1','Top2','Top3'],language='cn')"
   ]
  },
  {
   "cell_type": "code",
   "execution_count": null,
   "id": "cd7dc7a4",
   "metadata": {},
   "outputs": [],
   "source": [
    "data_desc(data)"
   ]
  },
  {
   "cell_type": "code",
   "execution_count": null,
   "id": "3b958e3d",
   "metadata": {},
   "outputs": [],
   "source": [
    "# 创建一个包含特征英文名 Name ，特征中文名 Label的 DataFrame\n",
    "## 设置列的数据字典，包含Name 和Label 两列，用于保存特征英文名称，特征中文名称\n",
    "col_dict = pd.DataFrame(data={'Name':['LIMIT_BAL','AGE','PAY_0'],'Label':['授信余额','年龄','支付金额']})\n",
    "\n",
    "#在数据描述中展示特征中文名\n",
    "data_desc(data,col_dict)"
   ]
  },
  {
   "cell_type": "markdown",
   "id": "55570efb",
   "metadata": {},
   "source": [
    "## 查看数据分布"
   ]
  },
  {
   "cell_type": "code",
   "execution_count": null,
   "id": "58fc09c2",
   "metadata": {
    "scrolled": true
   },
   "outputs": [],
   "source": [
    "# 查看目标变量的数据分布\n",
    "value_counts(data)"
   ]
  },
  {
   "cell_type": "code",
   "execution_count": null,
   "id": "710dce0e",
   "metadata": {},
   "outputs": [],
   "source": [
    "data['y'].value_counts()"
   ]
  },
  {
   "cell_type": "code",
   "execution_count": null,
   "id": "090a698a",
   "metadata": {},
   "outputs": [],
   "source": [
    "# 通过绘图查看指定变量的取值分布\n",
    "plot_counts(data,'SEX')"
   ]
  },
  {
   "cell_type": "code",
   "execution_count": null,
   "id": "317b7961",
   "metadata": {},
   "outputs": [],
   "source": [
    "# 也可通过 value_counts 的别名函数 data_dist 或 get_data_distribution 查看数据分布\n",
    "data_dist(data,col='MARRIAGE')"
   ]
  },
  {
   "cell_type": "code",
   "execution_count": null,
   "id": "0690931d",
   "metadata": {
    "scrolled": true
   },
   "outputs": [],
   "source": [
    "# 也可通过value_counts 的别名函数 data_dist 或 get_data_distribution 查看数据分布\n",
    "data_dist(data,col='MARRIAGE',language='en',precision=4,by=['#Count'],ascending =[True])"
   ]
  },
  {
   "cell_type": "markdown",
   "id": "92e9f950",
   "metadata": {},
   "source": [
    "## 数据分区"
   ]
  },
  {
   "cell_type": "code",
   "execution_count": null,
   "id": "bd2dfdc5",
   "metadata": {
    "scrolled": true
   },
   "outputs": [],
   "source": [
    "# 使用 data_split 函数进行数据分区，或者使用别名函数 get_data_partition，按随机测试集25%进行数据分区\n",
    "data_train,data_test = data_split(data,0.25)"
   ]
  },
  {
   "cell_type": "code",
   "execution_count": null,
   "id": "800c943f",
   "metadata": {},
   "outputs": [],
   "source": [
    "# 查看数据分区后的训练集数据分布\n",
    "value_counts(data_train)"
   ]
  },
  {
   "cell_type": "code",
   "execution_count": null,
   "id": "7f1432f8",
   "metadata": {},
   "outputs": [],
   "source": [
    "# 查看数据分区后的测试集数据分布\n",
    "value_counts(data_test)"
   ]
  },
  {
   "cell_type": "code",
   "execution_count": null,
   "id": "77ecc969",
   "metadata": {},
   "outputs": [],
   "source": [
    "#删除重复值\n",
    "data_train.drop_duplicates(inplace=True)\n",
    "value_counts(data_train)"
   ]
  },
  {
   "cell_type": "markdown",
   "id": "f438027d",
   "metadata": {},
   "source": [
    "## 特征分箱"
   ]
  },
  {
   "cell_type": "markdown",
   "id": "fe003b01",
   "metadata": {},
   "source": [
    "### 先大致分箱并检查变量的badRate趋势"
   ]
  },
  {
   "cell_type": "code",
   "execution_count": null,
   "id": "e1183799",
   "metadata": {},
   "outputs": [],
   "source": [
    "# 等频分箱，计算WoE和IV，默认结果精度保留4位小数，通过 precision = 2 指定结果保留2位小数\n",
    "woe_iv(data,col='AGE',qcut=5,precision=2)"
   ]
  },
  {
   "cell_type": "code",
   "execution_count": null,
   "id": "745d55d3",
   "metadata": {},
   "outputs": [],
   "source": [
    "#使用默认的决策树方法进行分箱\n",
    "woe_iv(data,col='AGE')"
   ]
  },
  {
   "cell_type": "code",
   "execution_count": null,
   "id": "48e64e8e",
   "metadata": {},
   "outputs": [],
   "source": [
    "#使用默认的决策树方法进行分箱，显示缺失值分组\n",
    "woe_iv(data,col='AGE',show_missing =True)"
   ]
  },
  {
   "cell_type": "code",
   "execution_count": null,
   "id": "46729710",
   "metadata": {
    "scrolled": true
   },
   "outputs": [],
   "source": [
    "# 设置输出的分箱小数点位数\n",
    "woe_iv(data,'AGE',precision=4)"
   ]
  },
  {
   "cell_type": "code",
   "execution_count": null,
   "id": "91291c68",
   "metadata": {},
   "outputs": [],
   "source": [
    "# 按照指定的切分点 分箱，并计算 WoE 和 IV\n",
    "woe_iv(data,'AGE',bins=[-inf,20,30,40,50,inf])"
   ]
  },
  {
   "cell_type": "code",
   "execution_count": null,
   "id": "3685706f",
   "metadata": {},
   "outputs": [],
   "source": [
    "# 使用已经分箱后的数据计算woe和iv\n",
    "age_bins = [-inf, 25, 40, 50, 60, 70, inf]\n",
    "data['bin_age'] = pd.cut(data['AGE'],bins=age_bins).astype(str)\n",
    "\n",
    "woe_iv(data,'bin_age',method='discrete')"
   ]
  },
  {
   "cell_type": "code",
   "execution_count": null,
   "id": "1505aa81",
   "metadata": {},
   "outputs": [],
   "source": [
    "data.drop(columns=['bin_age'],inplace=True)"
   ]
  },
  {
   "cell_type": "code",
   "execution_count": null,
   "id": "55f72fb9",
   "metadata": {
    "scrolled": true
   },
   "outputs": [],
   "source": [
    "# 使用决策树方法计算计算 WoE 和 IV\n",
    "woe_iv(data,'PAY_0',method='tree')"
   ]
  },
  {
   "cell_type": "code",
   "execution_count": null,
   "id": "9a43f50f",
   "metadata": {},
   "outputs": [],
   "source": [
    "# 指定缺失值类型，并使用默认的决策树分箱方法进行分箱，计算WoE和IV, \n",
    "data['PAY_0'][0] = np.nan\n",
    "data['PAY_0'][1] = -99999\n",
    "\n",
    "woe_iv(data,col='PAY_0',missing = [-99999])"
   ]
  },
  {
   "cell_type": "markdown",
   "id": "44a3316c",
   "metadata": {},
   "source": [
    "## 查看WoE 和 IV"
   ]
  },
  {
   "cell_type": "code",
   "execution_count": null,
   "id": "1446c0eb",
   "metadata": {
    "scrolled": true
   },
   "outputs": [],
   "source": [
    "# 按照默认的决策树方法，计算WoE 和 IV，并查看WoE的分布\n",
    "view_woe_iv(data,'AGE')"
   ]
  },
  {
   "cell_type": "code",
   "execution_count": null,
   "id": "a8dd5089",
   "metadata": {},
   "outputs": [],
   "source": [
    "# 按照默认的决策树方法，计算WoE 和 IV，并查看WoE的分布 , 设置显示的颜色为绿色\n",
    "view_woe_iv(data,'AGE',color='green')"
   ]
  },
  {
   "cell_type": "code",
   "execution_count": null,
   "id": "f2bfd530",
   "metadata": {},
   "outputs": [],
   "source": [
    "# 按照默认的决策树方法，计算WoE 和 IV，并查看WoE的分布，设置显示的颜色\n",
    "view_woe_iv(data,'AGE',color='#02B057')"
   ]
  },
  {
   "cell_type": "code",
   "execution_count": null,
   "id": "83c82f45",
   "metadata": {},
   "outputs": [],
   "source": [
    "# 按照等频分箱，将特征分为5箱，计算WoE 和 IV，并查看WoE的分布\n",
    "view_woe_iv(data,'AGE',qcut=5,precision=2)"
   ]
  },
  {
   "cell_type": "markdown",
   "id": "a2c55de0",
   "metadata": {},
   "source": [
    "## 计算WOE 并绘图"
   ]
  },
  {
   "cell_type": "code",
   "execution_count": null,
   "id": "a1e82eb3",
   "metadata": {},
   "outputs": [],
   "source": [
    "# 根据默认参数，将特征分箱，计算WoE,并展示图形\n",
    "plot_woe(data,'AGE')"
   ]
  },
  {
   "cell_type": "code",
   "execution_count": null,
   "id": "6916c130",
   "metadata": {
    "scrolled": true
   },
   "outputs": [],
   "source": [
    "# 根据默认参数，将特征分箱，并计算WoE,并展示图形 和 数据\n",
    "plot_woe(data,'AGE',return_data =True)"
   ]
  },
  {
   "cell_type": "code",
   "execution_count": null,
   "id": "0bfbfdfd",
   "metadata": {
    "scrolled": true
   },
   "outputs": [],
   "source": [
    "# 根据指定切分点计算WoE,并展示图形\n",
    "plot_woe(data,'AGE',bins=[-inf,30,40,50,inf])"
   ]
  },
  {
   "cell_type": "code",
   "execution_count": null,
   "id": "1c272f3a",
   "metadata": {},
   "outputs": [],
   "source": [
    "woe_iv(data,'AGE',bins=[-inf,30,40,50,inf])"
   ]
  },
  {
   "cell_type": "code",
   "execution_count": null,
   "id": "e4b10e2b",
   "metadata": {},
   "outputs": [],
   "source": [
    "# 根据等频分箱，将特征分为5箱，并计算WoE,并展示图形\n",
    "plot_woe(data,'AGE',qcut=5)"
   ]
  },
  {
   "cell_type": "code",
   "execution_count": null,
   "id": "445b19a0",
   "metadata": {
    "scrolled": true
   },
   "outputs": [],
   "source": [
    "# 根据默认的决策树方法分箱，并计算WoE,设置图形的颜色和样式，并展示图形\n",
    "plot_woe(data,'AGE',color=['blue','orange','red','black'],linewidth=2,linestyle='--')"
   ]
  },
  {
   "cell_type": "markdown",
   "id": "3ee16c29",
   "metadata": {},
   "source": [
    "## 计算 IV 并绘图"
   ]
  },
  {
   "cell_type": "code",
   "execution_count": null,
   "id": "c5552f95",
   "metadata": {
    "scrolled": true
   },
   "outputs": [],
   "source": [
    "# 根据默认的决策树方法分箱，并计算IV，展示图形\n",
    "plot_iv(data,'PAY_0')"
   ]
  },
  {
   "cell_type": "code",
   "execution_count": null,
   "id": "93d9693f",
   "metadata": {},
   "outputs": [],
   "source": [
    "# 根据默认的决策树方法分箱，并计算IV，展示图形 和 数据\n",
    "plot_iv(data,'PAY_0',return_data=True)"
   ]
  },
  {
   "cell_type": "code",
   "execution_count": null,
   "id": "fa6c47fc",
   "metadata": {
    "scrolled": true
   },
   "outputs": [],
   "source": [
    "# 根据决策树方法分箱，并计算IV，展示图形\n",
    "plot_iv(data,'PAY_0',method='tree')"
   ]
  },
  {
   "cell_type": "code",
   "execution_count": null,
   "id": "53e679e4",
   "metadata": {},
   "outputs": [],
   "source": [
    "# 根据等频分箱，将特征分为5箱，并计算IV,展示图形\n",
    "plot_iv(data,'PAY_0',qcut=5)"
   ]
  },
  {
   "cell_type": "code",
   "execution_count": null,
   "id": "8411e0f8",
   "metadata": {},
   "outputs": [],
   "source": [
    "# 根据指定的切分点，将特征分箱，并计算IV,展示图形\n",
    "plot_iv(data,'PAY_0',bins=[-inf,1,inf])"
   ]
  },
  {
   "cell_type": "markdown",
   "id": "4afa4ffa",
   "metadata": {},
   "source": [
    "### 获取列的数据类型，离散型、连续型"
   ]
  },
  {
   "cell_type": "code",
   "execution_count": null,
   "id": "a9f31517",
   "metadata": {
    "scrolled": false
   },
   "outputs": [],
   "source": [
    "col_types = get_col_type(data)\n",
    "col_types"
   ]
  },
  {
   "cell_type": "markdown",
   "id": "249b7115",
   "metadata": {},
   "source": [
    "## 决策树分箱"
   ]
  },
  {
   "cell_type": "code",
   "execution_count": null,
   "id": "04e24420",
   "metadata": {
    "scrolled": false
   },
   "outputs": [],
   "source": [
    "# 根据决策树方法，获取特征的分箱切分点结果\n",
    "tree_bins(data, 'AGE', max_leaf_nodes=4,min_samples_leaf=0.05)"
   ]
  },
  {
   "cell_type": "markdown",
   "id": "b94d9518",
   "metadata": {},
   "source": [
    "## 批量决策树分箱"
   ]
  },
  {
   "cell_type": "code",
   "execution_count": null,
   "id": "91e20b18",
   "metadata": {
    "scrolled": true
   },
   "outputs": [],
   "source": [
    "data_bins = get_data_bins(data,max_leaf_nodes=4)\n",
    "data_bins"
   ]
  },
  {
   "cell_type": "markdown",
   "id": "9c5b7839",
   "metadata": {},
   "source": [
    "## 手动调整分箱"
   ]
  },
  {
   "cell_type": "code",
   "execution_count": null,
   "id": "d1f4f93c",
   "metadata": {
    "scrolled": false
   },
   "outputs": [],
   "source": [
    "data_bins_adjust = update_bins(data_bins,\n",
    "[\n",
    "['AGE',[-inf,20,30,40,50,inf]],\n",
    "['BILL_AMT1',[-inf,1000,8000,50000,inf]],\n",
    "])\n",
    "data_bins_adjust"
   ]
  },
  {
   "cell_type": "markdown",
   "id": "fb98447c",
   "metadata": {},
   "source": [
    "## 数据离散化"
   ]
  },
  {
   "cell_type": "code",
   "execution_count": null,
   "id": "b5f7cad6",
   "metadata": {
    "scrolled": false
   },
   "outputs": [],
   "source": [
    "# 根据决策树分箱，并将数据离散化\n",
    "data_discrete(data)"
   ]
  },
  {
   "cell_type": "code",
   "execution_count": null,
   "id": "7b8385c6",
   "metadata": {
    "scrolled": false
   },
   "outputs": [],
   "source": [
    "# 按照调整后的分箱结果进行离散化\n",
    "data_train_discrete = data_discrete(data_train,col_bin = data_bins_adjust)\n",
    "data_train_discrete.head()"
   ]
  },
  {
   "cell_type": "markdown",
   "id": "1c3ea15a",
   "metadata": {},
   "source": [
    "## WOE 转换"
   ]
  },
  {
   "cell_type": "code",
   "execution_count": null,
   "id": "5ec105e2",
   "metadata": {
    "scrolled": true
   },
   "outputs": [],
   "source": [
    "# 使用已经离散化的数据，批量进行WoE转换\n",
    "data_train_woe = woe_transform(data_train_discrete)\n",
    "data_train_woe.head()"
   ]
  },
  {
   "cell_type": "code",
   "execution_count": null,
   "id": "fc4bc09b",
   "metadata": {},
   "outputs": [],
   "source": [
    "## 指定 criterion='discrete'，使用已经离散化的列计算WoE和IV\n",
    "woe_iv(data_train_discrete, 'AGE',method='discrete')"
   ]
  },
  {
   "cell_type": "markdown",
   "id": "5d2aafca",
   "metadata": {},
   "source": [
    "## 批量计算全部特征的IV"
   ]
  },
  {
   "cell_type": "code",
   "execution_count": null,
   "id": "33dcdf52",
   "metadata": {
    "scrolled": false
   },
   "outputs": [],
   "source": [
    "# 使用默认的决策树分箱方法，批量计算数据集所有变量的IV\n",
    "df_iv = data_iv(data_train)  \n",
    "df_iv"
   ]
  },
  {
   "cell_type": "markdown",
   "id": "b52ed676",
   "metadata": {},
   "source": [
    "## 根据离散化的数据，批量计算IV"
   ]
  },
  {
   "cell_type": "code",
   "execution_count": null,
   "id": "5e24c825",
   "metadata": {},
   "outputs": [],
   "source": [
    "# 根据离散化的数据，批量计算IV\n",
    "df_iv = data_iv(data_train_discrete,method='discrete',precision=4)  \n",
    "df_iv"
   ]
  },
  {
   "cell_type": "markdown",
   "id": "b3dc89f0",
   "metadata": {},
   "source": [
    "## 通过最小IV >= 0.02 和最大相关性 <=0.6 筛选特征"
   ]
  },
  {
   "cell_type": "code",
   "execution_count": null,
   "id": "463f4341",
   "metadata": {
    "scrolled": true
   },
   "outputs": [],
   "source": [
    "# 通过最小IV >= 0.02 和最大相关性 <=0.6 筛选特征\n",
    "# 只返回筛选后保留的特征\n",
    "iv_corr(data_train,df_iv,min_iv = 0.02,max_corr=0.5)"
   ]
  },
  {
   "cell_type": "markdown",
   "id": "e0bdafda",
   "metadata": {},
   "source": [
    "## 通过最小IV >= 0.1 筛选特征"
   ]
  },
  {
   "cell_type": "code",
   "execution_count": null,
   "id": "5476668d",
   "metadata": {},
   "outputs": [],
   "source": [
    "iv_corr(data_train,df_iv,min_iv = 0.1,max_corr=1)"
   ]
  },
  {
   "cell_type": "markdown",
   "id": "e265d933",
   "metadata": {},
   "source": [
    "## 通过最小IV >= 0.02 和最大相关性 <=0.6 筛选特征，并返回删除的特征"
   ]
  },
  {
   "cell_type": "code",
   "execution_count": null,
   "id": "377e2371",
   "metadata": {},
   "outputs": [],
   "source": [
    "# 返回筛选后保留的特征、根据IV删除的特征、根据corr删除的特征、相关矩阵\n",
    "col_keep,col_drop_by_iv,col_drop_by_corr,iv_corr_result = iv_corr(data_train,df_iv,min_iv = 0.02,max_corr=0.5,return_drop=True)\n",
    "col_keep"
   ]
  },
  {
   "cell_type": "code",
   "execution_count": null,
   "id": "f9e432f2",
   "metadata": {},
   "outputs": [],
   "source": [
    "#根据IV删除的特征\n",
    "col_drop_by_iv"
   ]
  },
  {
   "cell_type": "code",
   "execution_count": null,
   "id": "38c6723c",
   "metadata": {},
   "outputs": [],
   "source": [
    "#根据corr删除的特征\n",
    "col_drop_by_corr"
   ]
  },
  {
   "cell_type": "code",
   "execution_count": null,
   "id": "4ea2055b",
   "metadata": {
    "scrolled": false
   },
   "outputs": [],
   "source": [
    "# IV 和相关性矩阵\n",
    "iv_corr_result.head()"
   ]
  },
  {
   "cell_type": "markdown",
   "id": "aaea3e43",
   "metadata": {},
   "source": [
    "## 逐步回归筛选特征"
   ]
  },
  {
   "cell_type": "code",
   "execution_count": null,
   "id": "a2e60d9d",
   "metadata": {},
   "outputs": [],
   "source": [
    "#逐步回归选择特征\n",
    "col_result = stepwise_lr(data_train)\n",
    "col_result"
   ]
  },
  {
   "cell_type": "code",
   "execution_count": null,
   "id": "9673ed96",
   "metadata": {
    "scrolled": false
   },
   "outputs": [],
   "source": [
    "#逐步回归选择特征，并显示逐步回归详情\n",
    "col_result = stepwise_lr(data_train,verbose=True)\n",
    "col_result"
   ]
  },
  {
   "cell_type": "code",
   "execution_count": null,
   "id": "b054ab58",
   "metadata": {},
   "outputs": [],
   "source": [
    "import statsmodels.api as sm\n",
    "\n",
    "y = data_train_woe['y']\n",
    "x = data_train_woe[col_result]\n",
    "x = sm.add_constant(x)\n",
    "\n",
    "lr = sm.Logit(y, x).fit(disp=0)\n",
    "lr.summary()"
   ]
  },
  {
   "cell_type": "markdown",
   "id": "cadc39cd",
   "metadata": {},
   "source": [
    "## 查看特征相关性图"
   ]
  },
  {
   "cell_type": "code",
   "execution_count": null,
   "id": "766df073",
   "metadata": {
    "scrolled": false
   },
   "outputs": [],
   "source": [
    "plot_corr(data_train[col_keep])"
   ]
  },
  {
   "cell_type": "code",
   "execution_count": null,
   "id": "3c14381b",
   "metadata": {
    "scrolled": true
   },
   "outputs": [],
   "source": [
    "# 相关性表，添加中文\n",
    "plot_corr(data_train[col_keep],col_dict = col_dict)"
   ]
  },
  {
   "cell_type": "code",
   "execution_count": null,
   "id": "9fefd965",
   "metadata": {},
   "outputs": [],
   "source": [
    "# 批量计算WoE，使用默认的决策树分箱方法\n",
    "data_iv(data,precision=4)  "
   ]
  },
  {
   "cell_type": "code",
   "execution_count": null,
   "id": "71e2ffe3",
   "metadata": {
    "scrolled": true
   },
   "outputs": [],
   "source": [
    "# 批量计算IV，等频分箱，分为5箱\n",
    "data_iv(data,qcut=5)  "
   ]
  },
  {
   "cell_type": "code",
   "execution_count": null,
   "id": "1deff19c",
   "metadata": {},
   "outputs": [],
   "source": [
    "# 根据分箱后的数据，批量计算iv\n",
    "data_iv(data_train_discrete)"
   ]
  },
  {
   "cell_type": "markdown",
   "id": "6d911021",
   "metadata": {},
   "source": [
    "## 评分卡开发"
   ]
  },
  {
   "cell_type": "code",
   "execution_count": null,
   "id": "3bcb3081",
   "metadata": {
    "scrolled": false
   },
   "outputs": [],
   "source": [
    "# 按照默认参数，开发评分卡\n",
    "# 默认基础分为600，PDO=50\n",
    "\n",
    "# 输入训练集数据 和 调整后分箱，开发评分卡\n",
    "scorecard = get_scorecard(data_train[col_keep + ['y']] ,data_bins_adjust)\n",
    "scorecard"
   ]
  },
  {
   "cell_type": "code",
   "execution_count": null,
   "id": "b9514e43",
   "metadata": {},
   "outputs": [],
   "source": [
    "# 设置数据精度，并返回逻辑回归模型的详细内容\n",
    "scorecard,lr,a,b = get_scorecard(data_train[col_keep + ['y']] ,data_bins_adjust,precision=4,return_lr=True)\n",
    "scorecard.to_excel('d:/scorecard.xlsx')"
   ]
  },
  {
   "cell_type": "code",
   "execution_count": null,
   "id": "908c5aa8",
   "metadata": {
    "scrolled": false
   },
   "outputs": [],
   "source": [
    "# 查看逻辑回归模型的详细内容\n",
    "lr.summary()"
   ]
  },
  {
   "cell_type": "markdown",
   "id": "7b752b11",
   "metadata": {},
   "source": [
    "## 获取模型变量的IV表单"
   ]
  },
  {
   "cell_type": "code",
   "execution_count": null,
   "id": "72be0dd1",
   "metadata": {
    "scrolled": false
   },
   "outputs": [],
   "source": [
    "#获取模型变量的IV表单\n",
    "model_iv(data_train_discrete[col_keep+['y']])  "
   ]
  },
  {
   "cell_type": "markdown",
   "id": "c8cfd172",
   "metadata": {},
   "source": [
    "## 检查VIF"
   ]
  },
  {
   "cell_type": "code",
   "execution_count": null,
   "id": "4ba5b4a2",
   "metadata": {},
   "outputs": [],
   "source": [
    "get_vif(data_train_woe,data_train_woe.columns,return_data=True)"
   ]
  },
  {
   "cell_type": "code",
   "execution_count": null,
   "id": "18260f72",
   "metadata": {},
   "outputs": [],
   "source": [
    "# 查看评分卡模型的参数\n",
    "print('a:',a,'','b:',b)"
   ]
  },
  {
   "cell_type": "markdown",
   "id": "924549d2",
   "metadata": {},
   "source": [
    "## 预测模型分数"
   ]
  },
  {
   "cell_type": "code",
   "execution_count": null,
   "id": "9c590891",
   "metadata": {
    "scrolled": false
   },
   "outputs": [],
   "source": [
    "# 预测训练集模型分数\n",
    "data_train_score = get_predict_score(data_train,scorecard)\n",
    "data_train_score"
   ]
  },
  {
   "cell_type": "code",
   "execution_count": null,
   "id": "47603dec",
   "metadata": {},
   "outputs": [],
   "source": [
    "# 预测测试集模型分数\n",
    "data_test_score = get_predict_score(data_test,scorecard)\n",
    "data_test_score"
   ]
  },
  {
   "cell_type": "markdown",
   "id": "10f8b357",
   "metadata": {},
   "source": [
    "## 计算AUC 和 KS"
   ]
  },
  {
   "cell_type": "code",
   "execution_count": null,
   "id": "57fb4065",
   "metadata": {
    "scrolled": true
   },
   "outputs": [],
   "source": [
    "plot_roc_ks(data_train,scorecard)"
   ]
  },
  {
   "cell_type": "markdown",
   "id": "1af7c0f0",
   "metadata": {},
   "source": [
    "## 根据 预测得分计算ks"
   ]
  },
  {
   "cell_type": "code",
   "execution_count": null,
   "id": "ac7d80bd",
   "metadata": {},
   "outputs": [],
   "source": [
    "data_proba = get_predict_score(data_train,\n",
    "                                       scorecard,\n",
    "                                       init_score=600,\n",
    "                                       pdo=50,\n",
    "                                       odds=0,\n",
    "                                       target='y',\n",
    "                                       precision=2)\n",
    "\n",
    "\n",
    "plot_ks(data_train,data_proba)"
   ]
  },
  {
   "cell_type": "code",
   "execution_count": null,
   "id": "e8b98548",
   "metadata": {
    "scrolled": false
   },
   "outputs": [],
   "source": [
    "# 计算auc 和 ks，并返回 ks 结果数据\n",
    "plot_roc_ks(data_train,scorecard,return_data=True,precision=4)"
   ]
  },
  {
   "cell_type": "markdown",
   "id": "1032b71f",
   "metadata": {},
   "source": [
    "## AUC 计算"
   ]
  },
  {
   "cell_type": "code",
   "execution_count": null,
   "id": "c19ee8f2",
   "metadata": {
    "scrolled": true
   },
   "outputs": [],
   "source": [
    "#根据训练集和评分卡计算auc\n",
    "get_auc_by_card(data_train,scorecard)"
   ]
  },
  {
   "cell_type": "code",
   "execution_count": null,
   "id": "2d920b7e",
   "metadata": {},
   "outputs": [],
   "source": [
    "#根据训练集预测得分，计算auc\n",
    "get_auc(data_train_score)"
   ]
  },
  {
   "cell_type": "markdown",
   "id": "96e45fe0",
   "metadata": {},
   "source": [
    "## KS 计算"
   ]
  },
  {
   "cell_type": "code",
   "execution_count": null,
   "id": "93e68693",
   "metadata": {},
   "outputs": [],
   "source": [
    "#根据训练集和评分卡计算ks\n",
    "get_ks_by_card(data_train,scorecard)"
   ]
  },
  {
   "cell_type": "code",
   "execution_count": null,
   "id": "e5a5a479",
   "metadata": {},
   "outputs": [],
   "source": [
    "#根据训练集预测得分，计算ks\n",
    "get_ks(data_train_score)"
   ]
  },
  {
   "cell_type": "code",
   "execution_count": null,
   "id": "83058354",
   "metadata": {},
   "outputs": [],
   "source": [
    "#根据训练集预测得分，计算ks，并返回数据\n",
    "ks,ks_data = get_ks(data_train_score,return_data=True)\n",
    "ks_data"
   ]
  },
  {
   "cell_type": "markdown",
   "id": "f5c74253",
   "metadata": {},
   "source": [
    "## 查看评分卡分数分布 和 提升度"
   ]
  },
  {
   "cell_type": "code",
   "execution_count": null,
   "id": "886f3ad3",
   "metadata": {},
   "outputs": [],
   "source": [
    "# 查看训练集评分卡分数分布 和 提升度\n",
    "score_dist(data_train_score)"
   ]
  },
  {
   "cell_type": "code",
   "execution_count": null,
   "id": "41f87167",
   "metadata": {},
   "outputs": [],
   "source": [
    "# 查看训练集评分卡分数分布 和 提升度，分为5组，查看提升度\n",
    "score_dist(data_train_score,qcut=5)"
   ]
  },
  {
   "cell_type": "code",
   "execution_count": null,
   "id": "9a0dabbb",
   "metadata": {},
   "outputs": [],
   "source": [
    "# 查看训练集评分卡分数分布 和 提升度，分为5组，查看提升度\n",
    "view_score_dist(data_train_score,qcut=5)"
   ]
  },
  {
   "cell_type": "code",
   "execution_count": null,
   "id": "af017bb7",
   "metadata": {},
   "outputs": [],
   "source": [
    "# 查看训练集评分卡分数分布 和 提升度，分为5组，查看提升度\n",
    "view_score_dist(data_train_score,qcut=5,color='green')"
   ]
  },
  {
   "cell_type": "code",
   "execution_count": null,
   "id": "7bfd8289",
   "metadata": {},
   "outputs": [],
   "source": [
    "# 查看训练集评分卡分数分布 和 提升度，分为5组，查看提升度\n",
    "view_score_dist(data_train_score,qcut=5,color='#02B057')"
   ]
  },
  {
   "cell_type": "code",
   "execution_count": null,
   "id": "ebf116bb",
   "metadata": {},
   "outputs": [],
   "source": [
    "# 查看训练集评分卡分数分布 和 提升度,  标题显示为中文\n",
    "score_dist(data_train_score,language='cn')"
   ]
  },
  {
   "cell_type": "code",
   "execution_count": null,
   "id": "01dc469c",
   "metadata": {
    "scrolled": false
   },
   "outputs": [],
   "source": [
    "# 绘制提升度图    \n",
    "plot_lift(data_train_score)"
   ]
  },
  {
   "cell_type": "code",
   "execution_count": null,
   "id": "c0961315",
   "metadata": {
    "scrolled": false
   },
   "outputs": [],
   "source": [
    "# 绘制提升度图，并输出提升度表格\n",
    "plot_lift(data_train_score,return_data=True)"
   ]
  },
  {
   "cell_type": "code",
   "execution_count": null,
   "id": "51bf2861",
   "metadata": {
    "scrolled": false
   },
   "outputs": [],
   "source": [
    "# 查看训练集分数分布\n",
    "\n",
    "import matplotlib.pyplot as plt\n",
    "plt.style.use('default')\n",
    "fig=plt.figure()\n",
    "ax1=fig.add_subplot(1,1,1)\n",
    "ax1.hist(data_train_score['Score'] )\n",
    "plt.show()"
   ]
  },
  {
   "cell_type": "markdown",
   "id": "b029d0bc",
   "metadata": {},
   "source": [
    "## 模型稳定型 PSI计算"
   ]
  },
  {
   "cell_type": "code",
   "execution_count": null,
   "id": "d13af529",
   "metadata": {},
   "outputs": [],
   "source": [
    "data_train_score = get_predict_score(data_train,scorecard)\n",
    "data_test_score = get_predict_score(data_test,scorecard)\n",
    "\n",
    "# 按照等频分箱，分为10组，计算模型得分 Score 的PSI\n",
    "get_psi(data_train_score,data_test_score)"
   ]
  },
  {
   "cell_type": "code",
   "execution_count": null,
   "id": "faee4b2f",
   "metadata": {},
   "outputs": [],
   "source": [
    "# 按照等频分箱，分为10组，计算模型得分 Score 的PSI\n",
    "view_psi(data_train_score,data_test_score)"
   ]
  },
  {
   "cell_type": "code",
   "execution_count": null,
   "id": "2ebffed7",
   "metadata": {},
   "outputs": [],
   "source": [
    "# 按照等频分箱，分为10组，计算模型得分 Score 的PSI\n",
    "view_psi(data_train_score,data_test_score,color='green')"
   ]
  },
  {
   "cell_type": "code",
   "execution_count": null,
   "id": "bd9ce941",
   "metadata": {},
   "outputs": [],
   "source": [
    "# 按照等频分箱，分为10组，计算模型得分 Score 的PSI\n",
    "view_psi(data_train_score,data_test_score,color='#02B057')"
   ]
  },
  {
   "cell_type": "code",
   "execution_count": null,
   "id": "90daaab2",
   "metadata": {},
   "outputs": [],
   "source": [
    "data_train_score = get_predict_score(data_train,scorecard)\n",
    "data_test_score = get_predict_score(data_test,scorecard)\n",
    "\n",
    "# 按照等频分箱，分为5组，计算PSI\n",
    "get_psi(data_train_score,data_test_score,col='LIMIT_BAL',qcut=5,precision=4)"
   ]
  },
  {
   "cell_type": "code",
   "execution_count": null,
   "id": "3308dae3",
   "metadata": {},
   "outputs": [],
   "source": [
    "data_train_score = get_predict_score(data_train,scorecard)\n",
    "data_test_score = get_predict_score(data_test,scorecard)\n",
    "\n",
    "# 按照指定的切分点，计算PSI\n",
    "get_psi(data_train_score,data_test_score,col='LIMIT_BAL',bins=[-inf,30000,50000,100000,inf],precision=4)"
   ]
  },
  {
   "cell_type": "code",
   "execution_count": null,
   "id": "65a414d6",
   "metadata": {
    "scrolled": true
   },
   "outputs": [],
   "source": [
    "data_train_score = get_predict_score(data_train,scorecard)\n",
    "data_test_score = get_predict_score(data_test,scorecard)\n",
    "\n",
    "# 按照指定的切分点，计算PSI，标题显示为中文\n",
    "get_psi(data_train_score,data_test_score,col='LIMIT_BAL',bins=[-inf,30000,50000,100000,inf],precision=4,language='cn')"
   ]
  },
  {
   "cell_type": "code",
   "execution_count": null,
   "id": "d7f6c95c",
   "metadata": {},
   "outputs": [],
   "source": [
    "# 批量计算所有特征的PSI\n",
    "data_train_score = get_predict_score(data_train,scorecard)\n",
    "data_test_score = get_predict_score(data_test,scorecard)\n",
    "\n",
    "get_data_psi(data_train_score,data_test_score,precision=4)"
   ]
  },
  {
   "cell_type": "markdown",
   "id": "7e200d5e",
   "metadata": {},
   "source": [
    "## 模型应用分析"
   ]
  },
  {
   "cell_type": "markdown",
   "id": "bfbfccbc",
   "metadata": {},
   "source": [
    "### 决策树分析"
   ]
  },
  {
   "cell_type": "code",
   "execution_count": null,
   "id": "45e305ed",
   "metadata": {},
   "outputs": [],
   "source": [
    "plot_tree(data_train_score[['Score','y']],max_depth=3,criterion='gini')"
   ]
  },
  {
   "cell_type": "code",
   "execution_count": null,
   "id": "81dbcd8a",
   "metadata": {},
   "outputs": [],
   "source": [
    "# 绘制决策树，并保存图片到本地\n",
    "plot_tree(data_train_score[['Score','y']],max_depth=3,criterion='gini',out_file='test.svg')"
   ]
  },
  {
   "cell_type": "code",
   "execution_count": null,
   "id": "07ce7e52",
   "metadata": {},
   "outputs": [],
   "source": [
    "# 绘制决策树，并保存图片到本地\n",
    "plot_tree(data_train_score[['Score','y']],max_depth=3,criterion='gini',out_file='test.pdf')"
   ]
  },
  {
   "cell_type": "code",
   "execution_count": null,
   "id": "ded9c7e9",
   "metadata": {},
   "outputs": [],
   "source": [
    "# 计算基尼不纯度,使用原始数据\n",
    "gini_impurity([1,1,1,0])"
   ]
  },
  {
   "cell_type": "code",
   "execution_count": null,
   "id": "71f0d37e",
   "metadata": {},
   "outputs": [],
   "source": [
    "# 计算基尼不纯度,直接使用统计后数据进行计算\n",
    "gini_impurity(c=[17564,4936])"
   ]
  },
  {
   "cell_type": "markdown",
   "id": "c2b9b673",
   "metadata": {},
   "source": [
    "## 金融函数"
   ]
  },
  {
   "cell_type": "code",
   "execution_count": null,
   "id": "e6aaea1f",
   "metadata": {},
   "outputs": [],
   "source": [
    "# 等额本息，计算每月还款\n",
    "debx(amount=500000,rate=0.043,period=240)"
   ]
  },
  {
   "cell_type": "code",
   "execution_count": null,
   "id": "230a3497",
   "metadata": {},
   "outputs": [],
   "source": [
    "# 等额本息，查看还款计划\n",
    "a = debx(amount=500000,rate=0.043,period=240,return_data=True)\n",
    "a['data']"
   ]
  },
  {
   "cell_type": "code",
   "execution_count": null,
   "id": "dd034198",
   "metadata": {},
   "outputs": [],
   "source": [
    "# 等额本金，查看还款计划\n",
    "a = debj(amount=500000,rate=0.043,period=240,return_data=True)\n",
    "a['data']"
   ]
  },
  {
   "cell_type": "markdown",
   "id": "3635c3ca",
   "metadata": {},
   "source": [
    "## 数学计算函数"
   ]
  },
  {
   "cell_type": "code",
   "execution_count": null,
   "id": "bb6c53b2",
   "metadata": {},
   "outputs": [],
   "source": [
    "sin(1)"
   ]
  },
  {
   "cell_type": "code",
   "execution_count": null,
   "id": "6cbe1329",
   "metadata": {},
   "outputs": [],
   "source": [
    "cos(1)"
   ]
  },
  {
   "cell_type": "markdown",
   "id": "1efd3f6f",
   "metadata": {},
   "source": [
    "## 日期计算函数"
   ]
  },
  {
   "cell_type": "code",
   "execution_count": null,
   "id": "31dfbe06",
   "metadata": {},
   "outputs": [],
   "source": [
    "year_start('2023-05-23')"
   ]
  },
  {
   "cell_type": "code",
   "execution_count": null,
   "id": "43463108",
   "metadata": {},
   "outputs": [],
   "source": [
    "year_end('2023-05-23')"
   ]
  },
  {
   "cell_type": "code",
   "execution_count": null,
   "id": "8cbed869",
   "metadata": {},
   "outputs": [],
   "source": [
    "month_start('2023-05-23')"
   ]
  },
  {
   "cell_type": "code",
   "execution_count": null,
   "id": "8403db56",
   "metadata": {},
   "outputs": [],
   "source": [
    "month_end('2023-04-23')"
   ]
  },
  {
   "cell_type": "code",
   "execution_count": null,
   "id": "a9bf7cf5",
   "metadata": {},
   "outputs": [],
   "source": [
    "add_months('2023-04-30',-2)"
   ]
  },
  {
   "cell_type": "code",
   "execution_count": null,
   "id": "16559f1f",
   "metadata": {},
   "outputs": [],
   "source": [
    "# 计算日期差\n",
    "date_diff('2023-05-01','2023-05-16')"
   ]
  },
  {
   "cell_type": "code",
   "execution_count": null,
   "id": "e9145cb2",
   "metadata": {},
   "outputs": [],
   "source": [
    "# 计算月份差\n",
    "date_diff('2023-05-01','2023-05-16','m')"
   ]
  },
  {
   "cell_type": "code",
   "execution_count": null,
   "id": "f8c72bb0",
   "metadata": {},
   "outputs": [],
   "source": [
    "# 计算年份差\n",
    "date_diff('2022-05-01','2023-05-02','y')"
   ]
  },
  {
   "cell_type": "code",
   "execution_count": null,
   "id": "611a5158",
   "metadata": {},
   "outputs": [],
   "source": [
    "# 计算月份差\n",
    "month_diff('2023-05-01','2023-05-16')"
   ]
  },
  {
   "cell_type": "code",
   "execution_count": null,
   "id": "1fb2d00b",
   "metadata": {},
   "outputs": [],
   "source": [
    "# 计算月份差, 计算时日期按照1日进行计算，例如 '2023-05-15' 按 '2023-05-01'，'2023-06-16' 按'2023-06-01'进行计算 \n",
    "month_diff('2023-05-15','2023-06-16',method='mm')"
   ]
  },
  {
   "cell_type": "markdown",
   "id": "ca721e7b",
   "metadata": {},
   "source": [
    "## 正则函数"
   ]
  },
  {
   "cell_type": "code",
   "execution_count": null,
   "id": "692addb8",
   "metadata": {},
   "outputs": [],
   "source": [
    "# 正则查找函数\n",
    "regexp_like('2023','[a-z]+')"
   ]
  },
  {
   "cell_type": "code",
   "execution_count": null,
   "id": "275b0b4d",
   "metadata": {},
   "outputs": [],
   "source": [
    "# 正则替换函数\n",
    "regexp_replace('2023westat2023','[0-9]+','')"
   ]
  },
  {
   "cell_type": "markdown",
   "id": "c941ecc7",
   "metadata": {},
   "source": [
    "## 其他统计函数"
   ]
  },
  {
   "cell_type": "code",
   "execution_count": null,
   "id": "2e791b05",
   "metadata": {},
   "outputs": [],
   "source": [
    "# 获取指定值最大连续次数\n",
    "get_max_continue([1,2,2,1,2,2,2,0],2)"
   ]
  },
  {
   "cell_type": "code",
   "execution_count": null,
   "id": "335a9221",
   "metadata": {},
   "outputs": [],
   "source": [
    "# 获取连续大于指定值的次数,例如：检查列表中连续大于1的次数\n",
    "get_over_continue([1,2,2,1,2,3,4,0],1)"
   ]
  },
  {
   "cell_type": "code",
   "execution_count": null,
   "id": "ca3613f5",
   "metadata": {},
   "outputs": [],
   "source": [
    "# 获取大于指定值2，且相等的最大连续次数\n",
    "get_over_continue([3,4,2,1,2,3,3,4,0],2,eq=True)"
   ]
  },
  {
   "cell_type": "code",
   "execution_count": null,
   "id": "9fff0a11",
   "metadata": {},
   "outputs": [],
   "source": [
    "# nvl函数，如果变量取值为空，则赋值为另一个值\n",
    "a=None\n",
    "nvl(a,5)"
   ]
  }
 ],
 "metadata": {
  "kernelspec": {
   "display_name": "Python 3 (ipykernel)",
   "language": "python",
   "name": "python3"
  },
  "language_info": {
   "codemirror_mode": {
    "name": "ipython",
    "version": 3
   },
   "file_extension": ".py",
   "mimetype": "text/x-python",
   "name": "python",
   "nbconvert_exporter": "python",
   "pygments_lexer": "ipython3",
   "version": "3.10.10"
  }
 },
 "nbformat": 4,
 "nbformat_minor": 5
}
